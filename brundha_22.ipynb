{
  "cells": [
    {
      "cell_type": "markdown",
      "metadata": {
        "id": "view-in-github",
        "colab_type": "text"
      },
      "source": [
        "<a href=\"https://colab.research.google.com/github/Brundha04/Python_Notes/blob/main/brundha_22.ipynb\" target=\"_parent\"><img src=\"https://colab.research.google.com/assets/colab-badge.svg\" alt=\"Open In Colab\"/></a>"
      ]
    },
    {
      "cell_type": "markdown",
      "metadata": {
        "id": "rqlCpScfow2l"
      },
      "source": [
        "**#Module1--->Python**"
      ]
    },
    {
      "cell_type": "code",
      "execution_count": null,
      "metadata": {
        "id": "2fI_FBounpfn"
      },
      "outputs": [],
      "source": [
        "#what is python ?\n",
        "\"\"\"1. most emerging and general purpose programming language\n",
        "  2.High-level programming language\n",
        "  3.object oriented programming language\n",
        "  4.Dynamically typed programming language\n",
        "  5.interpreted programming language\"\"\""
      ]
    },
    {
      "cell_type": "code",
      "execution_count": null,
      "metadata": {
        "id": "P-uln8fErx_P"
      },
      "outputs": [],
      "source": [
        "#print a \"Hello world!\" program?\n",
        "#use the \"print()\" is inbuilt function used to display your output\n",
        "print(\"Hello world\")"
      ]
    },
    {
      "cell_type": "code",
      "execution_count": null,
      "metadata": {
        "id": "UuDHfWxOrwPp"
      },
      "outputs": [],
      "source": [
        "#print your name ?\n",
        "print(\"brundha\")"
      ]
    },
    {
      "cell_type": "markdown",
      "metadata": {
        "id": "gEJK4nEXrrpH"
      },
      "source": [
        "#Numerical Data types in python  "
      ]
    },
    {
      "cell_type": "code",
      "execution_count": null,
      "metadata": {
        "id": "5yH8EXWIrteP"
      },
      "outputs": [],
      "source": [
        "# there are three types of datatpes\n",
        "#1.Integer-->int\n",
        "#what is an integer?\n",
        "#int is a whole number either +ve or -ve numbers without decimal points\n",
        "print(10)\n",
        "print(-5)\n",
        "# Iwant to find the dtypes of above numbers\n",
        "# use \"type()\" is a inbult function used to find your dtypes\n",
        "print(type(10))\n",
        "print(type(5))"
      ]
    },
    {
      "cell_type": "code",
      "execution_count": null,
      "metadata": {
        "colab": {
          "base_uri": "https://localhost:8080/"
        },
        "id": "_tB2ZU0jvX4Y",
        "outputId": "98117479-4809-4fb3-ea41-e06b2bbcfcf8"
      },
      "outputs": [
        {
          "name": "stdout",
          "output_type": "stream",
          "text": [
            "10.5\n",
            "-5.5\n",
            "<class 'float'>\n",
            "<class 'float'>\n"
          ]
        }
      ],
      "source": [
        "#2.float:---> float\n",
        "#what is a float?\n",
        "#whole numbers either +ve or -ve with decimal points\n",
        "print(10.5)\n",
        "print(-5.5)\n",
        "print(type(10.5))\n",
        "print(type(-5.5))"
      ]
    },
    {
      "cell_type": "code",
      "execution_count": null,
      "metadata": {
        "id": "BtJF0dtHwTNU"
      },
      "outputs": [],
      "source": [
        "#complex number :--->complex\n",
        "#what is a complex number?\n",
        "#A real number with its imaginary part is known as complex number\n",
        "# the imaginary part has to be in letter \"j\" is known as iota\n",
        "print(2+5j)\n",
        "print(3+5j)\n",
        "print(type(2+5j))"
      ]
    },
    {
      "cell_type": "markdown",
      "metadata": {
        "id": "pgmOvxIDrqTw"
      },
      "source": [
        "#Arthematic operators"
      ]
    },
    {
      "cell_type": "code",
      "execution_count": null,
      "metadata": {
        "id": "OND4M3H10L7x"
      },
      "outputs": [],
      "source": [
        "#There are 7 arthematic operators\n",
        "#1.addittion--->+\n",
        "print(10+5)\n",
        "print(type(10+5))\n",
        "#2.subtraction-----> -\n",
        "print(10-5)\n",
        "print(type(10-5))\n",
        "#3.multiplication---> *\n",
        "print(10*5)\n",
        "print(type(10*5))\n",
        "#4.Division----> /\n",
        "print(10/5)\n",
        "print(type(10/5))\n",
        "#why default datatype for the division is float?\n",
        "# in most of the division operation the co-efficent you may get as afloat sometimes or fixed numbers sometimes\n",
        "#so it is easy to convert a float in to integer\n",
        "# to get the actual or sufficent co-efficent the default dtype is float\n",
        "\n",
        "#5.MOdulus--> %\n",
        "# modulus is defined as remainder of the division\n",
        "print(10%5)\n",
        "print(type(10%5))\n",
        "#to find even or odd data or numbers or prime numbers we are using modulus{divide by 2}\n",
        "\n",
        "print(2347596458629 % 2)\n",
        "\n"
      ]
    },
    {
      "cell_type": "code",
      "execution_count": null,
      "metadata": {
        "id": "B4HMJ3oK9FVn"
      },
      "outputs": [],
      "source": [
        "#6. exponential--->**\n",
        "#to the power off\n",
        "print(2**3)\n",
        "print(type(2**3))"
      ]
    },
    {
      "cell_type": "code",
      "execution_count": null,
      "metadata": {
        "id": "aAB1voQB9fdC"
      },
      "outputs": [],
      "source": [
        "#use **0.5\n",
        "print(25**0.5)"
      ]
    },
    {
      "cell_type": "code",
      "execution_count": null,
      "metadata": {
        "id": "8W6atB1098EG"
      },
      "outputs": [],
      "source": [
        "#7. floor division --->//\n",
        "#it ignores the value after the decimal point\n",
        "print(10/3)\n",
        "print(10//3)"
      ]
    },
    {
      "cell_type": "markdown",
      "metadata": {
        "id": "Txq7CIVHoplp"
      },
      "source": [
        "\n",
        "**Round()**\n"
      ]
    },
    {
      "cell_type": "code",
      "execution_count": null,
      "metadata": {
        "id": "5fjMYVKS_ZZJ"
      },
      "outputs": [],
      "source": [
        "#what is round function()\n",
        "#round ()can be excuted if it is decimal number\n",
        "#if the decimalpoint is  more than or equal to 0.5 then you get next upcoming value which is known as ceiling value\n",
        "#round()is used to print specific ndigits\n",
        "#what is a ceil value and floor value?\n"
      ]
    },
    {
      "cell_type": "code",
      "execution_count": null,
      "metadata": {
        "colab": {
          "base_uri": "https://localhost:8080/"
        },
        "id": "yk0VAG9jAV6T",
        "outputId": "d83f91f9-18c3-441f-8e9f-a99e292d1bcc"
      },
      "outputs": [
        {
          "name": "stdout",
          "output_type": "stream",
          "text": [
            "7\n",
            "6\n",
            "3\n"
          ]
        }
      ],
      "source": [
        "print(round(6.7))\n",
        "print(round(6.4321))\n",
        "print(round(2.56))"
      ]
    },
    {
      "cell_type": "code",
      "execution_count": null,
      "metadata": {
        "colab": {
          "base_uri": "https://localhost:8080/"
        },
        "id": "1oF6HECVBhgQ",
        "outputId": "c645c979-c3ea-43ec-88c9-be19fda571be"
      },
      "outputs": [
        {
          "name": "stdout",
          "output_type": "stream",
          "text": [
            "345.2437\n"
          ]
        }
      ],
      "source": [
        "\n",
        "#round(number,count_ndigits)\n",
        "print(round(345.2436873,4))"
      ]
    },
    {
      "cell_type": "code",
      "execution_count": null,
      "metadata": {
        "id": "ox1casHuC8Fl"
      },
      "outputs": [],
      "source": [
        "#when using -ve count then round function ignores the values after decimal point makes point as a zero\n",
        "print(round(-15345.98765,-5))"
      ]
    },
    {
      "cell_type": "markdown",
      "metadata": {
        "id": "3456FKAAvKsH"
      },
      "source": [
        "***variables***"
      ]
    },
    {
      "cell_type": "code",
      "execution_count": null,
      "metadata": {
        "collapsed": true,
        "id": "PZ3IXJFYvwSv"
      },
      "outputs": [],
      "source": [
        "#what is variables?\n",
        "#variables are containers where we can store our valuable information or data and reuse it\n",
        "#How can we create a variables?\n",
        "#we can create variables by using alphabets\n",
        "s=\"hello world!\"\n",
        "print(s)\n",
        "print(type(s))"
      ]
    },
    {
      "cell_type": "code",
      "execution_count": null,
      "metadata": {
        "id": "fzPx4QsPxdp5",
        "outputId": "f411c794-63f7-47e7-f8d3-cbe7c141be6a",
        "colab": {
          "base_uri": "https://localhost:8080/"
        }
      },
      "outputs": [
        {
          "output_type": "stream",
          "name": "stdout",
          "text": [
            "15\n",
            "5\n",
            "50\n",
            "2.0\n",
            "0\n",
            "100000\n",
            "2\n"
          ]
        }
      ],
      "source": [
        "#take 2 variables and apply all the arithmatic operations?\n",
        "a=10\n",
        "b=5\n",
        "print(a+b)\n",
        "print(a-b)\n",
        "print(a*b)\n",
        "print(a/b)\n",
        "print(a%b)\n",
        "print(a**b)\n",
        "print(a//b)\n"
      ]
    },
    {
      "cell_type": "markdown",
      "metadata": {
        "id": "wms4BPkRySsu"
      },
      "source": [
        "**Types of Errors**"
      ]
    },
    {
      "cell_type": "code",
      "execution_count": null,
      "metadata": {
        "id": "NuMC0b9EybAh"
      },
      "outputs": [],
      "source": [
        "#there are 2 types of errors\n",
        "#1. Syntax error\n",
        "#2. Logical error"
      ]
    },
    {
      "cell_type": "code",
      "execution_count": null,
      "metadata": {
        "id": "30FL7D4ryGwt"
      },
      "outputs": [],
      "source": [
        "#what is syntax error?\n",
        "#breaking the rules of a programming language can rise a syntax error\n",
        "\"\"\"hi\n",
        "good day!\"\"\""
      ]
    },
    {
      "cell_type": "code",
      "execution_count": null,
      "metadata": {
        "id": "Bv1-E_phyEL5"
      },
      "outputs": [],
      "source": [
        "#what is logical error ?\n",
        "#except syntax error all the errors comes under logical error\n",
        "#ex:- Name error,attribute error,identation error ,recuessive error...etc"
      ]
    },
    {
      "cell_type": "markdown",
      "metadata": {
        "id": "mqGP5qfc0MFy"
      },
      "source": [
        "** Rules to create variables**"
      ]
    },
    {
      "cell_type": "code",
      "execution_count": null,
      "metadata": {
        "id": "mwcnCH2m0SHh"
      },
      "outputs": [],
      "source": [
        "#1. Start creating the variable by using alphabets\n",
        "a=10\n",
        "print(a)\n",
        "h=\"hello world\"\n",
        "print(h)\n"
      ]
    },
    {
      "cell_type": "code",
      "execution_count": null,
      "metadata": {
        "id": "wfzoKlv01Dl9"
      },
      "outputs": [],
      "source": [
        "#2.Don't start create the variables by using numbers\n",
        "2=\"hello\"\n",
        "5=10\n",
        "print(2)"
      ]
    },
    {
      "cell_type": "code",
      "execution_count": null,
      "metadata": {
        "colab": {
          "base_uri": "https://localhost:8080/"
        },
        "id": "mJUNU-5W1iAx",
        "outputId": "0b5c9573-4b25-465b-d2be-e44d57517752"
      },
      "outputs": [
        {
          "name": "stdout",
          "output_type": "stream",
          "text": [
            "20\n"
          ]
        }
      ],
      "source": [
        "#3.if you follow rule 1 and 2 you can use numbers in between variables\n",
        "son2age=20\n",
        "print(son2age)"
      ]
    },
    {
      "cell_type": "code",
      "execution_count": null,
      "metadata": {
        "id": "6lZ3gQPA2JUs"
      },
      "outputs": [],
      "source": [
        "#4.dont use special characters in the variables name\n",
        "##$%^&*#!\n",
        "son$age=20\n",
        "print(son$age)"
      ]
    },
    {
      "cell_type": "code",
      "execution_count": null,
      "metadata": {
        "id": "bmJoQbdM2g9p",
        "colab": {
          "base_uri": "https://localhost:8080/"
        },
        "outputId": "03cc17b7-6d41-4d57-8d66-6a38c144dd86"
      },
      "outputs": [
        {
          "output_type": "stream",
          "name": "stdout",
          "text": [
            "10 20 30\n"
          ]
        }
      ],
      "source": [
        "#5. we cannot use the white space in between variables\n",
        "a,b,c =10,20, 30\n",
        "print (a,b,c)\n",
        "#Note if you want to seperate the variables use (,)  inbetween variables"
      ]
    },
    {
      "cell_type": "code",
      "execution_count": null,
      "metadata": {
        "id": "2HX__1BX2-zD"
      },
      "outputs": [],
      "source": [
        "#6.we  can start creating variables by using (_)and instead of space we can use _\n",
        "son_age=20\n",
        "print(son_age)\n",
        "_=\"hello\"\n",
        "print(_)"
      ]
    },
    {
      "cell_type": "code",
      "execution_count": null,
      "metadata": {
        "id": "dfkSMi5G3qmH",
        "colab": {
          "base_uri": "https://localhost:8080/"
        },
        "outputId": "e128270d-8969-4890-8c51-b67936bf017f"
      },
      "outputs": [
        {
          "output_type": "stream",
          "name": "stdout",
          "text": [
            "20\n"
          ]
        }
      ],
      "source": [
        "#7. WE cannot use the capital letters as a variable name\n",
        "SON_AGE=20\n",
        "print(SON_AGE)"
      ]
    },
    {
      "cell_type": "code",
      "execution_count": null,
      "metadata": {
        "id": "oHu-ljkT2-hG"
      },
      "outputs": [],
      "source": [
        "#what is  Dynamically typed programming language?\n",
        "# we cannot define data type for variables\n",
        "a=\"hello world!\"\n",
        "print(type(a))\n",
        "#str=\"hello\"\n",
        "b=10\n",
        "print(type(b))"
      ]
    },
    {
      "cell_type": "markdown",
      "metadata": {
        "id": "S8y66gP15vwj"
      },
      "source": [
        "python is a case sensitive progrraming language"
      ]
    },
    {
      "cell_type": "code",
      "execution_count": null,
      "metadata": {
        "id": "RvTd0vQk6C_C"
      },
      "outputs": [],
      "source": [
        "\"u=\"hello\n",
        "print(U)"
      ]
    },
    {
      "cell_type": "markdown",
      "metadata": {
        "id": "4uFlCU176MBY"
      },
      "source": [
        "\n",
        "\n",
        "\n",
        "\n",
        "Python is an interpreted programming language"
      ]
    },
    {
      "cell_type": "code",
      "execution_count": null,
      "metadata": {
        "id": "qP3bXFly6SZA"
      },
      "outputs": [],
      "source": [
        "#python executes the program step by step\n",
        "a=10\n",
        "b=20\n",
        "a=40\n",
        "b=30\n",
        "print(a+b)"
      ]
    },
    {
      "cell_type": "code",
      "execution_count": null,
      "metadata": {
        "id": "vj2-RWgS6lz_"
      },
      "outputs": [],
      "source": [
        "#8.we cannot consider keywords as a variables\n",
        "#what is a keyword?\n",
        "#keywords are predefinded words or names in python\n",
        "#these are also  part of your python syntax\n",
        "#EX:-if,while,for,else,try,except,def...etc"
      ]
    },
    {
      "cell_type": "code",
      "execution_count": null,
      "metadata": {
        "colab": {
          "base_uri": "https://localhost:8080/"
        },
        "id": "Q_8xYah48d4l",
        "outputId": "00dff6e1-2292-4e8f-a1a4-0e5398e963b7"
      },
      "outputs": [
        {
          "name": "stdout",
          "output_type": "stream",
          "text": [
            "['False', 'None', 'True', 'and', 'as', 'assert', 'async', 'await', 'break', 'class', 'continue', 'def', 'del', 'elif', 'else', 'except', 'finally', 'for', 'from', 'global', 'if', 'import', 'in', 'is', 'lambda', 'nonlocal', 'not', 'or', 'pass', 'raise', 'return', 'try', 'while', 'with', 'yield']\n"
          ]
        }
      ],
      "source": [
        "#how can you print overall keywords in python?\n",
        "import keyword\n",
        "print(keyword.kwlist)"
      ]
    },
    {
      "cell_type": "markdown",
      "metadata": {
        "id": "mot2H2Xw9odn"
      },
      "source": [
        "Smart ways of writing variables"
      ]
    },
    {
      "cell_type": "code",
      "execution_count": null,
      "metadata": {
        "colab": {
          "background_save": true
        },
        "id": "93QXTUzG9tY2",
        "outputId": "77f54e7e-d849-4d94-8f35-17043301642f"
      },
      "outputs": [
        {
          "name": "stdout",
          "output_type": "stream",
          "text": [
            "10\n",
            "5\n",
            "3\n"
          ]
        }
      ],
      "source": [
        "#1. assign multiple values to multiple variables and print in seperate line\n",
        "#hint:- take three varables and print in seperate line\n",
        "#a=10\n",
        "#b=5\n",
        "#c=3\n",
        "#print(a)\n",
        "#print(b)\n",
        "#print(c)\n",
        "a,b,c,=10,5,3\n",
        "print(a,b,c,sep=\"\\n\") #sep is used to print actual o/p in seperate line (backward slash n\\n means printo/p in seperate line )\n"
      ]
    },
    {
      "cell_type": "code",
      "execution_count": null,
      "metadata": {
        "id": "WhQTSvKx-6HP"
      },
      "outputs": [],
      "source": [
        "#2.assign single valuento multiplemvariables and print inseoerate line\n",
        "#hint :-take 3 variables\n",
        "# a,b,c = 1 ---> type error\n",
        "#a=1\n",
        "#b=1\n",
        "#c=1\n",
        "a=b=c=1\n",
        "print(a,b,c,sep ='\\n')"
      ]
    },
    {
      "cell_type": "markdown",
      "metadata": {
        "id": "ZP3r7dY6A3N6"
      },
      "source": [
        "Input()"
      ]
    },
    {
      "cell_type": "code",
      "execution_count": null,
      "metadata": {
        "id": "AQbm3NvqXMuP",
        "colab": {
          "base_uri": "https://localhost:8080/",
          "height": 105
        },
        "outputId": "8160512d-4266-4b4e-f0a9-e4c00317862f"
      },
      "outputs": [
        {
          "output_type": "stream",
          "name": "stdout",
          "text": [
            "2+5j\n",
            "2+5j\n",
            "<class 'str'>\n"
          ]
        },
        {
          "output_type": "execute_result",
          "data": {
            "text/plain": [
              "'we dont know what type of information  can be taken from  the user, sothe\\nclass which accepts all the characters is string\\nstring is the only class having collection of multiple characters'"
            ],
            "application/vnd.google.colaboratory.intrinsic+json": {
              "type": "string"
            }
          },
          "metadata": {},
          "execution_count": 7
        }
      ],
      "source": [
        "#what is input()?\n",
        "#its a user defined variable\n",
        "#it is a inbuilt function use to intake any kind of information from user and store it\n",
        "#what is the purpose of input()?\n",
        "#multiple user valuable information or data intakes and low memory occupency\n",
        "#enhance python performance\n",
        "#how we can create input()?\n",
        "a= input()\n",
        "print(a)\n",
        "print(type(a))\n",
        "#what is the default data type for input()?\n",
        "#string\n",
        "# why the default dtype for input() is a string ?\n",
        "\"\"\"we dont know what type of information  can be taken from  the user, sothe\n",
        "class which accepts all the characters is string\n",
        "string is the only class having collection of multiple characters\"\"\""
      ]
    },
    {
      "cell_type": "markdown",
      "source": [
        "# 29 - 11-2024"
      ],
      "metadata": {
        "id": "sXroEk1dKfsh"
      }
    },
    {
      "cell_type": "code",
      "execution_count": null,
      "metadata": {
        "id": "CJS_lykaXTez",
        "colab": {
          "base_uri": "https://localhost:8080/"
        },
        "outputId": "ec173f4a-c684-4e7e-c484-40fbc435a4ad"
      },
      "outputs": [
        {
          "output_type": "stream",
          "name": "stdout",
          "text": [
            "enter the number:7\n",
            "enter the number :8\n",
            "78\n"
          ]
        }
      ],
      "source": [
        "a= input(\"enter the number:\")\n",
        "b= input(\"enter the number :\")\n",
        "print(a+b)\n",
        "#Note :- adding of two strings is known as concatenation"
      ]
    },
    {
      "cell_type": "code",
      "execution_count": null,
      "metadata": {
        "id": "MY-_DWGAXw_1"
      },
      "outputs": [],
      "source": [
        "#How can we apply the arthematic operations by using the input()'s?\n",
        "#we need to mention the numeric data type for input() function\n",
        "a = int(input(\"enter the number: \"))\n",
        "b = int(input(\"enter the number: \"))\n",
        "print(a+b)"
      ]
    },
    {
      "cell_type": "code",
      "source": [
        "s = input(\"enter your valid email: \")\n",
        "print(s)"
      ],
      "metadata": {
        "id": "vjGLhekAJ-Ut"
      },
      "execution_count": null,
      "outputs": []
    },
    {
      "cell_type": "markdown",
      "metadata": {
        "id": "xP9AxOzHYPeD"
      },
      "source": [
        "Strings"
      ]
    },
    {
      "cell_type": "code",
      "execution_count": null,
      "metadata": {
        "id": "jBJLHOEVYSK9"
      },
      "outputs": [],
      "source": [
        "#what is a string?\n",
        "#string is a collection of multiple characters  which are declared inside(\" \") (' ')\n",
        "#any message that can be written inside the \" \" or ' ' is known as string\n",
        "print(\"hello world\")"
      ]
    },
    {
      "cell_type": "code",
      "execution_count": null,
      "metadata": {
        "id": "VKK2D6UjZFNp"
      },
      "outputs": [],
      "source": [
        "#how many types of strings?\n",
        "#single line string----> (\" \") or (' ')\n",
        "#multi line string-----> (\"\"\" \"\"\")or (''' ''')"
      ]
    },
    {
      "cell_type": "code",
      "execution_count": null,
      "metadata": {
        "id": "7TO1Lc7CbO8S"
      },
      "outputs": [],
      "source": [
        "#string is a collection of multiple characters where each character is accessable\n",
        "# how can we declare a string?\n",
        "# declared string(\" \") (' ')\n"
      ]
    },
    {
      "cell_type": "code",
      "execution_count": null,
      "metadata": {
        "id": "r7FxQEVGbl4h"
      },
      "outputs": [],
      "source": [
        "#how can we access the characters inside the string ?\n",
        "#by using indexes and slicing operator we can acess  the character inside the string"
      ]
    },
    {
      "cell_type": "code",
      "execution_count": null,
      "metadata": {
        "id": "JPf12IPUb-pd"
      },
      "outputs": [],
      "source": [
        "# how can we acess the characters inside the string?\n",
        "#by useing indexes and slicing operator we can acess the characters inside the string"
      ]
    },
    {
      "cell_type": "code",
      "execution_count": null,
      "metadata": {
        "id": "B2dXRs8GcTbF"
      },
      "outputs": [],
      "source": [
        "#what is index?\n",
        "#indexing means sequential postion number of each character in the string\n",
        "#the indexing can be start from '0'"
      ]
    },
    {
      "cell_type": "code",
      "execution_count": null,
      "metadata": {
        "colab": {
          "base_uri": "https://localhost:8080/"
        },
        "id": "468-kNTTcoPo",
        "outputId": "2c3065e2-edcc-4f7e-a608-1b0a04c7e612"
      },
      "outputs": [
        {
          "output_type": "stream",
          "name": "stdout",
          "text": [
            "H\n",
            "r\n"
          ]
        }
      ],
      "source": [
        "#what is slicing?\n",
        "# the process of getting or accessing a substring from main string\n",
        "#slicing----> []\n",
        "#what is substring ?\n",
        "# a part of string from main string\n",
        "#[index_postion number]\n",
        "#i want to print 1st character from below string?\n",
        "h= \"Hello world!\"\n",
        "print(h[0])\n",
        "print(h[8])"
      ]
    },
    {
      "cell_type": "code",
      "execution_count": null,
      "metadata": {
        "id": "chRofL-dg8Jv"
      },
      "outputs": [],
      "source": [
        "#print \"hello\" from the below string?\n",
        "a=\"hello world!\"\n",
        "#[start:end]\n",
        "print(a[0:5]) #end is always n+1\n",
        "#note:- slicing can be stop beforethe given end index postion number\n",
        "print(a[3:8])"
      ]
    },
    {
      "cell_type": "code",
      "source": [
        "#print the even index position characters from the below string?\n",
        "h = \"Hello world!\"\n",
        "#[start:end:step]\n",
        "print(h[0:12:2])"
      ],
      "metadata": {
        "id": "_ivXVxBQJeyg"
      },
      "execution_count": null,
      "outputs": []
    },
    {
      "cell_type": "code",
      "source": [
        "#How can we find the length of a string?\n",
        "#by using len()\n",
        "#in len() it starts with 1\n",
        "print(len(h))\n",
        "print(len(h)-1) #gives the last index"
      ],
      "metadata": {
        "id": "bSjGDV4uJqiA"
      },
      "execution_count": null,
      "outputs": []
    },
    {
      "cell_type": "markdown",
      "metadata": {
        "id": "1eKzVHzjmJUC"
      },
      "source": [
        "Negative indexing"
      ]
    },
    {
      "cell_type": "code",
      "execution_count": null,
      "metadata": {
        "id": "FVpYeJBAmNtG"
      },
      "outputs": [],
      "source": [
        "#what is negative indexing?\n",
        "#accessing the string charactersin reverse direction\n",
        "#-ve is starts with -1\n",
        "u=\"hello world!\"\n",
        "print(u[11])\n",
        "print(u[-1])"
      ]
    },
    {
      "cell_type": "code",
      "execution_count": null,
      "metadata": {
        "colab": {
          "base_uri": "https://localhost:8080/"
        },
        "id": "U9nU848kms1M",
        "outputId": "b4ecb9fa-129b-445a-d1f8-9cd91c1240e8"
      },
      "outputs": [
        {
          "name": "stdout",
          "output_type": "stream",
          "text": [
            "!dlrow\n"
          ]
        }
      ],
      "source": [
        "#print the world! in reverse direction\n",
        "#print(u[-1:-7:-1])\n",
        "print(u[-1:-7])"
      ]
    },
    {
      "cell_type": "code",
      "execution_count": null,
      "metadata": {
        "id": "In-aUE2lnJW8"
      },
      "outputs": [],
      "source": [
        "l=\"hello world!\"\n",
        "print(l[-7:-1])"
      ]
    },
    {
      "cell_type": "markdown",
      "source": [
        "Default indexing"
      ],
      "metadata": {
        "id": "O9NU4LT8IQd8"
      }
    },
    {
      "cell_type": "code",
      "source": [
        "s=\"hello world!\"\n",
        "print(s)\n",
        "print(s[ :])\n",
        "#what is defalut position number of start and end when we use default indexing\n",
        "#[start is 0: end is len(string)]\n",
        "print(s[::])\n",
        "#[start is 0: end is len(string)]:step is 1]\n"
      ],
      "metadata": {
        "id": "dnPrPMsRITQb"
      },
      "execution_count": null,
      "outputs": []
    },
    {
      "cell_type": "code",
      "source": [
        "#malayalam\"\n",
        "k = input('enter your string: ')\n",
        "print(k[::-1])\n",
        "print(k[::2])"
      ],
      "metadata": {
        "id": "s_nMKWI9I1Ro"
      },
      "execution_count": null,
      "outputs": []
    },
    {
      "cell_type": "code",
      "source": [
        "#print(k[1::2][0:3]) #subslicing\n",
        "#el ol!\n",
        "print(k[1::2][-1:-3:-1])"
      ],
      "metadata": {
        "id": "nLl5gWkkJCR4"
      },
      "execution_count": null,
      "outputs": []
    },
    {
      "cell_type": "markdown",
      "source": [
        "30-11-2024"
      ],
      "metadata": {
        "id": "rpPJyDmaHNVL"
      }
    },
    {
      "cell_type": "code",
      "source": [
        "s=\"hello team good morning!\"\n",
        "print(s[-1])\n",
        "#print the even characters from the above string\n",
        "#print(s[:])\n",
        "#print(s[0:len(s):1])\n",
        "print(s[ ::2])\n",
        "#print odd characters\n",
        "print(s[1::2])"
      ],
      "metadata": {
        "id": "JYTpCqyuHMX0"
      },
      "execution_count": null,
      "outputs": []
    },
    {
      "cell_type": "code",
      "source": [
        "#check whetherthe given strings are palindrome or not\n",
        "#\"mom\",madam,hydebad,malayalam,karnatak\n",
        "s=input()\n",
        "print(s[::-1])"
      ],
      "metadata": {
        "id": "iQn8Yd3iPdnr"
      },
      "execution_count": null,
      "outputs": []
    },
    {
      "cell_type": "markdown",
      "source": [
        "String methods"
      ],
      "metadata": {
        "id": "MOrgyNipR618"
      }
    },
    {
      "cell_type": "code",
      "source": [
        "#The methods that are applicable for string is known as stringmethods\n",
        "#how to find the methods that are applicable to string ?\n",
        "#use dir() whichreturns what are all methods applicable for any object (like string,list,tuple...etc)"
      ],
      "metadata": {
        "id": "5nBdFGpJSCdb"
      },
      "execution_count": null,
      "outputs": []
    },
    {
      "cell_type": "code",
      "source": [
        "h=\"Hello world!\"\n",
        "#use dir()\n",
        "print(dir(h))\n",
        "\"\"\"'capitalize', 'casefold', 'center', 'count', 'encode', 'endswith', 'expandtabs',\n",
        "'find', 'format', 'format_map', 'index', 'isalnum', 'isalpha', 'isascii', 'isdecimal',\n",
        "'isdigit', 'isidentifier', 'islower', 'isnumeric', 'isprintable', 'isspace', 'istitle',\n",
        " 'isupper', 'join', 'ljust', 'lower', 'lstrip', 'maketrans', 'partition', 'removeprefix',\n",
        " 'removesuffix', 'replace', 'rfind', 'rindex', 'rjust', 'rpartition', 'rsplit', 'rstrip',\n",
        " 'split', 'splitlines', 'startswith', 'strip', 'swapcase', 'title', 'translate', 'upper', 'zfill'\"\"\"\n"
      ],
      "metadata": {
        "id": "Okhy68BDVqym"
      },
      "execution_count": null,
      "outputs": []
    },
    {
      "cell_type": "code",
      "source": [
        "#important methods\n",
        "#1.upper()\n",
        "#2.lower()\n",
        "#3.count()\n",
        "#4.strip()\n",
        "#5.rstrip()\n",
        "#6.lstrip()\n",
        "#7.index()\n",
        "#8.title()\n",
        "#9.capitalize()\n",
        "#10.split()\n",
        "#11.replace()\n",
        "#12.swapcase()\n",
        "#13.find()"
      ],
      "metadata": {
        "id": "mAjZSuyrWTML"
      },
      "execution_count": null,
      "outputs": []
    },
    {
      "cell_type": "code",
      "source": [
        "a=\"hello world\"\n",
        "print(a.upper())\n",
        "print(a.lower())\n",
        "print(a.capitalize())\n"
      ],
      "metadata": {
        "colab": {
          "base_uri": "https://localhost:8080/"
        },
        "id": "-W5bnM4rXBhp",
        "outputId": "a688c99d-af4e-49a0-b96a-754b2b68e2d6"
      },
      "execution_count": null,
      "outputs": [
        {
          "output_type": "stream",
          "name": "stdout",
          "text": [
            "HELLO WORLD\n",
            "hello world\n",
            "Hello world\n"
          ]
        }
      ]
    },
    {
      "cell_type": "code",
      "source": [
        "h=\"  hello world  \"\n",
        "print(h.strip())\n",
        "print(h.rstrip())\n",
        "print(h.lstrip())"
      ],
      "metadata": {
        "colab": {
          "base_uri": "https://localhost:8080/"
        },
        "id": "w6idb8kCXdKm",
        "outputId": "328c3bab-4f1d-4aeb-8af3-84edb449cfda"
      },
      "execution_count": null,
      "outputs": [
        {
          "output_type": "stream",
          "name": "stdout",
          "text": [
            "hello world\n",
            "  hello world\n",
            "hello world  \n"
          ]
        }
      ]
    },
    {
      "cell_type": "code",
      "source": [
        "a=\"hello  world\"\n",
        "#replace()\n",
        "print(a.replace(\"world\",\"universe\"))\n",
        "#replace(\"old_string\",\"newstring\"#)"
      ],
      "metadata": {
        "colab": {
          "base_uri": "https://localhost:8080/"
        },
        "id": "q0N6z5MvX0OG",
        "outputId": "ecbc2711-11b5-4803-9e22-76f80ad66fdd"
      },
      "execution_count": null,
      "outputs": [
        {
          "output_type": "stream",
          "name": "stdout",
          "text": [
            "hello  universe\n"
          ]
        }
      ]
    },
    {
      "cell_type": "code",
      "source": [
        "#find()\n",
        "a=\"hello world\"\n",
        "print(a.find(\"e\"))\n",
        "#index\n",
        "print(a.index('o'))"
      ],
      "metadata": {
        "id": "IqX85knYYV3u",
        "colab": {
          "base_uri": "https://localhost:8080/"
        },
        "outputId": "75fe473d-20a2-442b-eeea-fa73150d0a6c"
      },
      "execution_count": null,
      "outputs": [
        {
          "output_type": "stream",
          "name": "stdout",
          "text": [
            "1\n",
            "4\n"
          ]
        }
      ]
    },
    {
      "cell_type": "code",
      "source": [
        "l=\"hello team good morning , team\"\n",
        "print(l.count('team'))\n",
        "#zfill()zero fill\n",
        "h=\"hello\"\n",
        "print(h.zfill(10))"
      ],
      "metadata": {
        "id": "NP5IabG5av1_",
        "colab": {
          "base_uri": "https://localhost:8080/"
        },
        "outputId": "95a4687a-3445-4006-c58b-d4656ab72070"
      },
      "execution_count": null,
      "outputs": [
        {
          "output_type": "stream",
          "name": "stdout",
          "text": [
            "2\n",
            "00000hello\n"
          ]
        }
      ]
    },
    {
      "cell_type": "markdown",
      "source": [
        "String format methods"
      ],
      "metadata": {
        "id": "sIHzQTZ4ezA6"
      }
    },
    {
      "cell_type": "code",
      "source": [
        "age=10\n",
        "txt=f\"iam {age} years old\"\n",
        "print(txt,age)\n",
        "#string formatting means it takes an argument and place it over the placeholder{}"
      ],
      "metadata": {
        "id": "C15Azk3ae96x"
      },
      "execution_count": null,
      "outputs": []
    },
    {
      "cell_type": "code",
      "source": [
        "name=\"product A\"\n",
        "quantity=10\n",
        "price_each=99.9\n",
        "notification= f\"your order for {name} has been confirmed with an quantity of {quantity} and total price {price_each*quantity} /-\"\n",
        "print(notification)"
      ],
      "metadata": {
        "colab": {
          "base_uri": "https://localhost:8080/"
        },
        "id": "xxhyaLr_grIK",
        "outputId": "8cacfb4a-ffa2-4de7-c2a3-956369f83afa"
      },
      "execution_count": null,
      "outputs": [
        {
          "output_type": "stream",
          "name": "stdout",
          "text": [
            "your order for product A has been confirmed with an quantity of 10 and total price 999.0 /-\n"
          ]
        }
      ]
    },
    {
      "cell_type": "markdown",
      "source": [
        "## **escape characters**"
      ],
      "metadata": {
        "id": "QhVEWD6ahjl7"
      }
    },
    {
      "cell_type": "code",
      "source": [
        "#EC is used to print the illegal characters in the string---->it is declared in backward slash(\\) infront of illegal characters\n",
        "a=\"hi team \\\"good day\\\" hope you are doing well\"\n",
        "print(a)"
      ],
      "metadata": {
        "id": "enCHIAZ6hrJy",
        "colab": {
          "base_uri": "https://localhost:8080/"
        },
        "outputId": "8ea9c217-2df5-460f-dfc5-a7ee6076efd8"
      },
      "execution_count": null,
      "outputs": [
        {
          "output_type": "stream",
          "name": "stdout",
          "text": [
            "hi team \"good day\" hope you are doing well\n"
          ]
        }
      ]
    },
    {
      "cell_type": "markdown",
      "source": [
        "02-12-2024"
      ],
      "metadata": {
        "id": "ctod9PL4Z4ru"
      }
    },
    {
      "cell_type": "markdown",
      "source": [
        "**Conditional statements**"
      ],
      "metadata": {
        "id": "pPutPsJGZ9je"
      }
    },
    {
      "cell_type": "code",
      "source": [
        "#what is conditional statements and why we are using conditional statements?\n",
        "#To check the condition is satisfied or not satisfied\n",
        "#to make decisions in programming we use conditional staements\n",
        "#we are having 3 conditions\n",
        "#if---->elif---->else"
      ],
      "metadata": {
        "id": "qzS_Klz2rVpJ"
      },
      "execution_count": null,
      "outputs": []
    },
    {
      "cell_type": "code",
      "source": [
        "#How can you make conditions satisfied or not satisfied?\n",
        "#how can we check the condition?\n",
        "#we checking conditions based on \"comparision operators\"\n",
        "#what is comparision operators and how many types?\n",
        "#comparision operators are also known as \"relational operators\"\n",
        "#there are 6 types\n",
        "\"\"\"1.equals too----->==\n",
        "  2.not equals to----->!=\n",
        "  3.greater than ----->  >\n",
        "  4.less than----->  <\n",
        "  5.greaterthan or equals too ---->   >=\n",
        "  6.lessthan or equals too ---> =< \"\"\""
      ],
      "metadata": {
        "id": "MWaPHIGZsNDu"
      },
      "execution_count": null,
      "outputs": []
    },
    {
      "cell_type": "code",
      "source": [
        "#write a program to check wheather the student is pass or fail\n",
        "pass_marks=40\n",
        "student_marks=int(input(\"enter the marks:\"))\n",
        "if student_marks >= pass_marks:\n",
        "  print(\"congratulations you are passed\")\n",
        "else :\n",
        "  print(\"better luck next time\")"
      ],
      "metadata": {
        "colab": {
          "base_uri": "https://localhost:8080/"
        },
        "id": "5Mwyeo-n7kGW",
        "outputId": "4a683dd6-dac5-4758-b18b-779b2084cd41"
      },
      "execution_count": null,
      "outputs": [
        {
          "output_type": "stream",
          "name": "stdout",
          "text": [
            "enter the marks:40\n",
            "congratulations you are passed\n"
          ]
        }
      ]
    },
    {
      "cell_type": "code",
      "source": [
        "#write a program to print weather the given number is +ve or negative if it is zero means print nuetral\n",
        "a = int(input(\"enter the number: \"))\n",
        "if a>0:\n",
        "  print(\"positive\")\n",
        "elif a == 0:\n",
        "  print(\"neutral\")\n",
        "else:\n",
        "  print(\"-ve\")\n"
      ],
      "metadata": {
        "id": "qBx3oJHj8mR5"
      },
      "execution_count": null,
      "outputs": []
    },
    {
      "cell_type": "code",
      "source": [
        "#write a program to tecj wether the given number is even or odd?\n",
        "#if num is even print \"even\" or else print odd\n",
        "a=int(input(\"enter the number :\"))\n",
        "if a % 2==0:\n",
        "  print(\"even\")\n",
        "else:\n",
        "  print(\"odd\")"
      ],
      "metadata": {
        "id": "HRPe7f1Nydp8",
        "colab": {
          "base_uri": "https://localhost:8080/"
        },
        "outputId": "bc289063-e450-42e2-8230-a7bacc1b30bc"
      },
      "execution_count": null,
      "outputs": [
        {
          "output_type": "stream",
          "name": "stdout",
          "text": [
            "enter the number :54\n",
            "even\n"
          ]
        }
      ]
    },
    {
      "cell_type": "code",
      "source": [
        "#check wheather the number is prime no or not\n",
        "a=int(input(\"enter the number:\"))\n",
        "if a="
      ],
      "metadata": {
        "id": "ch0RWqybzROc"
      },
      "execution_count": null,
      "outputs": []
    },
    {
      "cell_type": "code",
      "source": [
        "#check weather the given number is prime number or not?\n",
        "#check weather the given string is palindrome or not\n",
        "#mom, malayalam,\n",
        "a = \"malayalam\"\n",
        "print(a[::-1])\n",
        "print(a[0:9:-1])"
      ],
      "metadata": {
        "id": "pQQwKLIS9xqx",
        "outputId": "dba9c442-83ae-483c-d94a-8cbddf284697",
        "colab": {
          "base_uri": "https://localhost:8080/"
        }
      },
      "execution_count": null,
      "outputs": [
        {
          "output_type": "stream",
          "name": "stdout",
          "text": [
            "malayalam\n",
            "\n"
          ]
        }
      ]
    },
    {
      "cell_type": "markdown",
      "source": [
        "03-12-2024"
      ],
      "metadata": {
        "id": "0ZbQA3d4oLXM"
      }
    },
    {
      "cell_type": "code",
      "source": [
        "#check weather  the given  string is palindrome or not irrespective of letter case\n",
        "print(\"a\"== \"A\")\n",
        "print(\"Hello\"== \"hello\")\n",
        "print(\"MoM\"== \"mom\")\n",
        "a  = input(\"enter your string: \")\n",
        "if a.lower() == a[::-1].lower():\n",
        "  print(\"yes palindrome\")\n",
        "else:\n",
        "  print(\"Not Palindrome\")"
      ],
      "metadata": {
        "id": "XuwkI-63rhie"
      },
      "execution_count": null,
      "outputs": []
    },
    {
      "cell_type": "markdown",
      "source": [
        "**Logical operators"
      ],
      "metadata": {
        "id": "r3jLjpl3oOYb"
      }
    },
    {
      "cell_type": "code",
      "source": [
        "#to check the multiple conditons at a time we need to use logical operators\n",
        "#1.-and :- executes the program when all the conditions are true\n",
        "#2. or :- executes the program if any one condition is satisfied  or true\n",
        "#3. not:- it reverse your actual output\n",
        "print(1==1)\n",
        "print(not(1==1))"
      ],
      "metadata": {
        "id": "-M3ci4aLvvju"
      },
      "execution_count": null,
      "outputs": []
    },
    {
      "cell_type": "code",
      "source": [
        " #1.and  :- executes the program when all the conditions are true\n",
        " a=455\n",
        " b=56\n",
        " c=60\n",
        " d=25\n",
        " #check that a is greaterthan c and b is greater than d and d is less than c\n",
        " #if these conditions are satisfied then print all the conditons are satisfied else print ni conditon satisfied\n",
        " if a>c and b>d and d<c :\n",
        "  print(\"all the conditons are satisfied\")\n",
        "else:\n",
        "  print(\"any  one conditon is not satisfied \")"
      ],
      "metadata": {
        "id": "VmB2VJvjwmhr",
        "colab": {
          "base_uri": "https://localhost:8080/"
        },
        "outputId": "637ac212-6e95-45a7-cd47-bac97e8c9438"
      },
      "execution_count": null,
      "outputs": [
        {
          "output_type": "stream",
          "name": "stdout",
          "text": [
            "all the conditons are satisfied\n"
          ]
        }
      ]
    },
    {
      "cell_type": "code",
      "source": [
        "#or :- executes the program if any one condition is satisfied  or true\n",
        "a = 455\n",
        "b = 56\n",
        "c = 60\n",
        "d = 25\n",
        " #from above data checkif any one condition is satisfied execute the program\n",
        " #check a is less than b and b is less  c and c is greater than a and d is less than a\n",
        "if a<b or b<c or c>a or d<a:\n",
        "  print(\"true\")\n",
        "else:\n",
        "  print(\"false\")"
      ],
      "metadata": {
        "id": "skp6PHpawlH2"
      },
      "execution_count": null,
      "outputs": []
    },
    {
      "cell_type": "code",
      "source": [
        "#both \"and\" & \"or\"operators are used\n",
        "a = 455\n",
        "b = 56\n",
        "c = 60\n",
        "d = 25\n",
        " #from above data checkif any one condition is satisfied execute the program\n",
        "#check a is less than b and b is less  c and c is greater than a and d is less than a\n",
        "if a<b or b<c or c>a or d<a and a>300:\n",
        "  print(\"true\")\n",
        "else:\n",
        "  print(\"false\")"
      ],
      "metadata": {
        "id": "2VMLSSw80-Eg"
      },
      "execution_count": null,
      "outputs": []
    },
    {
      "cell_type": "code",
      "source": [
        "#write a program to check weather the user is eligible for adventure ride or not\n",
        "#if the age is between 15 to 40 years they are eligible for ride\n",
        "# so below 15 is not eligible for ride\n",
        "#above 40 print please choose another ride\n",
        "a=int(input(\"enter the age :\"))\n",
        "if a>=15 and a<=40:\n",
        "  print(\"eligible for ride\")\n",
        "elif a > 40:\n",
        "  print(\"choose another ride\")\n",
        "else:\n",
        "  print(\"not eligible for ride\")"
      ],
      "metadata": {
        "id": "fhkllCTh1wr6"
      },
      "execution_count": null,
      "outputs": []
    },
    {
      "cell_type": "markdown",
      "source": [
        "**Nested conditon**"
      ],
      "metadata": {
        "id": "TxMzj9y24fnQ"
      }
    },
    {
      "cell_type": "code",
      "source": [
        "#what is nested condition ?\n",
        "#writing a condition inside the another condition is known as nested condition\n",
        "#why we require nested condition or when  we have to use nested condition ?\n",
        "#A condition can be executed if the previous step or condition is satisfied\n",
        "#if you want a series of output then we use nested conditions\n",
        "a=35\n",
        "#check if a is greater than 10,20,30,40,50,60\n",
        "#print (a is greater than 10)\n",
        "#print(a is greater than 20)\n",
        "#print (a is greater than 30)\n",
        "#print(a is greater than 40)\n",
        "if a>10:\n",
        "  print(\"a is greater than 10\")\n",
        "  if a>20:\n",
        "    print(\"a is greater  than 20\")\n",
        "    if a>30:\n",
        "      print(\"a is greater than 30\")\n",
        "      if a> 40:\n",
        "        print(\"a is grater than 40\")\n",
        "      else :\n",
        "        print(\"a is less than 40\")\n",
        "    else:\n",
        "      print(\"a is less than 30\")\n",
        "  else:\n",
        "    print(\"a is less than 20 \")\n",
        "else:\n",
        "  print(\"a is less than 10\")\n"
      ],
      "metadata": {
        "id": "bnnB-Uvu35-B"
      },
      "execution_count": null,
      "outputs": []
    },
    {
      "cell_type": "code",
      "source": [
        "#write a program based on marks of the students print the grades\n",
        "#if the student is getting marks from 40 to 50-----> print \"you have  recevied \"D\"grade\n",
        "#if the student is getting marks from 51 to 60-----> print \"you have  recevied \"C\"grade\n",
        "#if the student is getting marks from 61 to 70-----> print \"you have  recevied \"B\"grade\n",
        "#if the student is getting marks from 71 to 80-----> print \"you have  recevied \"B+\"grade\n",
        "#if the student is getting marks from 81 to 90-----> print \"you have  recevied \"A\"grade\n",
        "#if the student is getting marks from 91 to 100-----> print \"you have  recevied \"A+\"grade\n",
        "#if the student is getting marks from 91 to 100-----> print \"you have  recevied \"A+\"grade\n",
        "#if the student is getting marks tham  100-----> print \"Don't be smart\n",
        "#write the code by using nested condition along with elif\n",
        "marks=int(input(\"enter the marks:\"))\n",
        "if marks <= 100:\n",
        "  print(\"congratulations\")\n",
        "  if marks >= 40 and marks<=50:\n",
        "    print(\"you have received 'D' grade\")\n",
        "  elif marks > 50 and marks <= 60:\n",
        "      print(\"you have received 'C' grade\")\n",
        "  elif marks > 60 and marks <= 70:\n",
        "        print(\"you have received 'B' grade\")\n",
        "  elif marks > 70 and marks <= 80:\n",
        "          print(\"you have received 'B+' grade\")\n",
        "  elif marks > 80 and marks <= 90:\n",
        "            print(\"you have received 'A' grade\")\n",
        "  elif marks >90 and marks <= 100:\n",
        "              print(\"you have received'A+' grade\")\n",
        "else :\n",
        "      print(\"Don't be smart\")\n",
        "\n"
      ],
      "metadata": {
        "id": "6Z5ZzVkf9Nog",
        "colab": {
          "base_uri": "https://localhost:8080/"
        },
        "outputId": "d64a6ea2-a5b0-44d2-e8bf-86cf892fe8d3"
      },
      "execution_count": null,
      "outputs": [
        {
          "output_type": "stream",
          "name": "stdout",
          "text": [
            "enter the marks:102\n",
            "Don't be smart\n"
          ]
        }
      ]
    },
    {
      "cell_type": "markdown",
      "source": [
        "04-12-2024"
      ],
      "metadata": {
        "id": "MSvNV-uMxHXm"
      }
    },
    {
      "cell_type": "markdown",
      "source": [
        "**Loops **"
      ],
      "metadata": {
        "id": "t73o4gvwxMeT"
      }
    },
    {
      "cell_type": "code",
      "source": [
        "#Loops :-\n",
        "#Loops are defined as SET of instructions or set of rules\n",
        "#what is the purpose of loops ?\n",
        "#The purpose of loops is to avoid the duplicate codes\n",
        "#loops encourages to write DRY codes and to avoid WET codes\n",
        "#How many types of codes?\n",
        "#there are 2 types of codes\n",
        "#1.WET codes---->Write everything twice\n",
        "#2.DRY codes----->Don't repeat yourself"
      ],
      "metadata": {
        "id": "M3UgGKswxeSo"
      },
      "execution_count": null,
      "outputs": []
    },
    {
      "cell_type": "code",
      "source": [
        "#How many types of loops ?\n",
        "#two types\n",
        "#1.While loop\n",
        "#2.For loop"
      ],
      "metadata": {
        "id": "iEsxQvWK0PoQ"
      },
      "execution_count": null,
      "outputs": []
    },
    {
      "cell_type": "markdown",
      "source": [
        "**While loop**"
      ],
      "metadata": {
        "id": "a7tf1jCc03NO"
      }
    },
    {
      "cell_type": "code",
      "source": [
        "#what is a while loop ?\n",
        "#It is defined as while loop is a set of instructions runs until the condition remains true\n",
        "target = 5\n",
        "intial = 1\n",
        "while intial <= target:\n",
        "  print(\"go up\")\n",
        "  print(\"go down\")\n",
        "  print(\"==========Rep completed=========\")\n",
        "  intial = intial + 1\n"
      ],
      "metadata": {
        "id": "bCsfegSb1Cvl"
      },
      "execution_count": null,
      "outputs": []
    },
    {
      "cell_type": "code",
      "source": [
        "print(1<=5)\n",
        "print(2<=5)\n",
        "print(3<=5)\n",
        "print(4<=5)\n",
        "print(5<=5)\n",
        "print(6<=5)"
      ],
      "metadata": {
        "id": "aj2JdUIH299c"
      },
      "execution_count": null,
      "outputs": []
    },
    {
      "cell_type": "code",
      "source": [
        "#write a basic program to run a lift if the user is given 4 stop the lift at 4th  floor\n",
        "user_input=int(input(\"enter floor number : \"))\n",
        "intial =1\n",
        "while intial <= user_input:\n",
        "  print(f'you are at {intial}floor')\n",
        "  intial=intial + 1"
      ],
      "metadata": {
        "id": "i9hzBxgd5ZWV",
        "colab": {
          "base_uri": "https://localhost:8080/"
        },
        "outputId": "8001f535-47d9-4640-8052-c6bfedf03911"
      },
      "execution_count": null,
      "outputs": [
        {
          "output_type": "stream",
          "name": "stdout",
          "text": [
            "enter floor number : 4\n",
            "you are at 1floor\n",
            "you are at 2floor\n",
            "you are at 3floor\n",
            "you are at 4floor\n"
          ]
        }
      ]
    },
    {
      "cell_type": "code",
      "source": [
        "#\n",
        "a=[1,2,3,4,5,6,7,8,9]\n",
        "#print multiples of 2 inabove list\n",
        "#[2,4,6,8,10,12,14,16,18]\n",
        "print(a*2)"
      ],
      "metadata": {
        "id": "GyO-Yg627Sr9",
        "outputId": "a4162600-2280-4508-e791-a8ec1064a4bb",
        "colab": {
          "base_uri": "https://localhost:8080/"
        }
      },
      "execution_count": null,
      "outputs": [
        {
          "output_type": "stream",
          "name": "stdout",
          "text": [
            "[1, 2, 3, 4, 5, 6, 7, 8, 9, 1, 2, 3, 4, 5, 6, 7, 8, 9]\n"
          ]
        }
      ]
    },
    {
      "cell_type": "markdown",
      "source": [
        "**For loop**\n",
        "---->Running a set of instructions over the collections"
      ],
      "metadata": {
        "id": "gseS4PiQ8HNP"
      }
    },
    {
      "cell_type": "code",
      "source": [
        "Running a set of instruction over the collections"
      ],
      "metadata": {
        "id": "AV00bpFh8LuN"
      },
      "execution_count": null,
      "outputs": []
    },
    {
      "cell_type": "code",
      "source": [
        "a=[1,2,3,4,5,6,7,8,9]\n",
        "for i in a:    #i is known as iterator and process of iterating is known as iterations\n",
        "  print(i*2,end=\",\")    #end act like a delimeter is nothing but special charactereach item in data set"
      ],
      "metadata": {
        "id": "znerdbM78lCC"
      },
      "execution_count": null,
      "outputs": []
    },
    {
      "cell_type": "code",
      "source": [
        "a=[1,2,3,4,5,6,7,8,9]\n",
        "for i in a:\n",
        "  print(\"hello world!\")"
      ],
      "metadata": {
        "id": "e1e-9oSB-PiN",
        "colab": {
          "base_uri": "https://localhost:8080/"
        },
        "outputId": "3d8693b1-341c-4b6c-825d-f315f999e73c"
      },
      "execution_count": null,
      "outputs": [
        {
          "output_type": "stream",
          "name": "stdout",
          "text": [
            "hello world!\n",
            "hello world!\n",
            "hello world!\n",
            "hello world!\n",
            "hello world!\n",
            "hello world!\n",
            "hello world!\n",
            "hello world!\n",
            "hello world!\n"
          ]
        }
      ]
    },
    {
      "cell_type": "code",
      "source": [
        "#\n",
        "b=\"Hello\"\n",
        "for i in b:\n",
        "  print(b)"
      ],
      "metadata": {
        "id": "cgJAbuay_laj",
        "colab": {
          "base_uri": "https://localhost:8080/"
        },
        "outputId": "a29c02ad-657d-4312-d525-f2f9337d0332"
      },
      "execution_count": null,
      "outputs": [
        {
          "output_type": "stream",
          "name": "stdout",
          "text": [
            "Hello\n",
            "Hello\n",
            "Hello\n",
            "Hello\n",
            "Hello\n"
          ]
        }
      ]
    },
    {
      "cell_type": "markdown",
      "source": [
        "**Break and Continue**"
      ],
      "metadata": {
        "id": "VfcEOtOy_yR_"
      }
    },
    {
      "cell_type": "code",
      "source": [
        "#Break:- it stops the entire  loop irrespective of items in the collections\n",
        "num =[1,2,3,4,5,6,7,8,9]\n",
        "for i in num:\n",
        "  print(i)\n",
        "  if i == 5:\n",
        "   break"
      ],
      "metadata": {
        "id": "JYsdfm-s_4DR"
      },
      "execution_count": null,
      "outputs": []
    },
    {
      "cell_type": "code",
      "source": [
        "#Continue :- is used to skip the current iterations\n",
        "num =[1,2,3,4,5,6,7,8,9,]\n",
        "for i in num:\n",
        "  #skip the 3,6,9 from above collection and print all\n",
        "  if i== 3 or i== 6 or i== 9:\n",
        "    continue\n",
        "  print(i,end=\" \")\n",
        "  #Note:- we don't have multiple breaks but we can skip multiple  items at a time by using continue with 'or' operator"
      ],
      "metadata": {
        "id": "w1M7fuW5B9Cc"
      },
      "execution_count": null,
      "outputs": []
    },
    {
      "cell_type": "markdown",
      "source": [
        "**Range()**"
      ],
      "metadata": {
        "id": "bCIn_4CDELZ5"
      }
    },
    {
      "cell_type": "code",
      "source": [
        "#[index_number]\n",
        "#range(end_number)\n",
        "for i  in range(10):\n",
        "  print(i, end=\" \")"
      ],
      "metadata": {
        "id": "YORVWdlID7xH",
        "colab": {
          "base_uri": "https://localhost:8080/"
        },
        "outputId": "d41f0158-1aa6-4d0f-aa07-59a1e0517d22"
      },
      "execution_count": null,
      "outputs": [
        {
          "output_type": "stream",
          "name": "stdout",
          "text": [
            "0 1 2 3 4 5 6 7 8 9 "
          ]
        }
      ]
    },
    {
      "cell_type": "code",
      "source": [
        "#range(start,end)\n",
        "for i in range(1,5):\n",
        "  print(i)"
      ],
      "metadata": {
        "id": "imtBN8flE2Sp"
      },
      "execution_count": null,
      "outputs": []
    },
    {
      "cell_type": "code",
      "source": [
        "#range(start,end,step)\n",
        "for i in range (0,100,2):\n",
        "  print(i, end=\",\")"
      ],
      "metadata": {
        "id": "tcBsZn1gFEio"
      },
      "execution_count": null,
      "outputs": []
    },
    {
      "cell_type": "markdown",
      "source": [
        "05-12-2024"
      ],
      "metadata": {
        "id": "LmIiI16b9vhI"
      }
    },
    {
      "cell_type": "markdown",
      "source": [
        "**Collections**\n"
      ],
      "metadata": {
        "id": "jW7ayEoo-Vq7"
      }
    },
    {
      "cell_type": "code",
      "source": [
        "#There are 4 types of collections\n",
        "#1.List\n",
        "#2.Tuple\n",
        "#3.Set\n",
        "#4.Dictionary"
      ],
      "metadata": {
        "id": "cJiIBGiI_a8C"
      },
      "execution_count": null,
      "outputs": []
    },
    {
      "cell_type": "code",
      "source": [
        "#There are two types of data in the collections\n",
        "#1, Heterogenous data :- it is a collection of multiple data items for ex:-int,float,complex,strings....etc\n",
        "#2. Homogenous data :- it is a collection of only one data type for ex:- either int ,either float"
      ],
      "metadata": {
        "id": "CMEKwXTqBQZt"
      },
      "execution_count": null,
      "outputs": []
    },
    {
      "cell_type": "markdown",
      "source": [
        "**List**"
      ],
      "metadata": {
        "id": "cPPdvW_TA3T-"
      }
    },
    {
      "cell_type": "code",
      "source": [
        "#what is a List ?\n",
        "#List can be declared in ---->[]\n",
        "#each element in the list in seperated by (,)\n",
        "#list is defined as---->ordered,muttable,and allows duplicates"
      ],
      "metadata": {
        "id": "Qq90jWI6AvJU"
      },
      "execution_count": null,
      "outputs": []
    },
    {
      "cell_type": "markdown",
      "source": [
        "**List allows the duplicates**"
      ],
      "metadata": {
        "id": "fOpOfkDHCWin"
      }
    },
    {
      "cell_type": "code",
      "source": [
        "#Lets create a list\n",
        "l1 = [\"apple\",\"banana\",\"kiwi\",\"pineapple\",\"watermelon\",\"apple\",\"pineapple\"]\n",
        "print(l1)\n",
        "print(len(l1))"
      ],
      "metadata": {
        "id": "A68DijUFCbKm"
      },
      "execution_count": null,
      "outputs": []
    },
    {
      "cell_type": "markdown",
      "source": [
        "**Orderd list**"
      ],
      "metadata": {
        "id": "-vjvvOCkDY3R"
      }
    },
    {
      "cell_type": "code",
      "source": [
        "#what is ordered?\n",
        "#elements or items in the collection is having a sequence of index position numbers\n",
        "l2 =  [\"apple\",\"banana\",\"kiwi\",\"pineapple\",\"watermelon\",\"apple\",\"pineapple\"]\n",
        "#From the above list print \"kiwi\"\n",
        "#[index_position number]\n",
        "print(l2[2])"
      ],
      "metadata": {
        "id": "h49rtZiZDnrc",
        "colab": {
          "base_uri": "https://localhost:8080/"
        },
        "outputId": "d980fdc5-df3d-4900-8280-64ebf0049a75"
      },
      "execution_count": null,
      "outputs": [
        {
          "output_type": "stream",
          "name": "stdout",
          "text": [
            "kiwi\n"
          ]
        }
      ]
    },
    {
      "cell_type": "code",
      "source": [
        "#From the list print a range of items from banana to watermelon\n",
        "#[start_end:end_index] #end_index is always n+1\n",
        "print(l2[1:5])"
      ],
      "metadata": {
        "id": "XRVI_VWsEjxV"
      },
      "execution_count": null,
      "outputs": []
    },
    {
      "cell_type": "code",
      "source": [
        "#from the list i want even postional characters characters\n",
        "#[start:end:step]\n",
        "print(l2[0:7:2])\n",
        "#similarly odd characters\n",
        "#[start:end:2\n",
        "print(l2[1:7:2])"
      ],
      "metadata": {
        "id": "LqvQ1SXBFTnR"
      },
      "execution_count": null,
      "outputs": []
    },
    {
      "cell_type": "markdown",
      "source": [
        "**Negative Indexing**"
      ],
      "metadata": {
        "id": "YWCES4lJGOo5"
      }
    },
    {
      "cell_type": "code",
      "source": [
        "#what is -ve indexing?\n",
        "#Acessing the elements from collection in reverse direction\n",
        "#negative indexing starts from -1\n",
        "l3=  [\"banana\",\"kiwi\",\"pineapple\",\"watermelon\",]\n",
        "print(l3[3])\n",
        "print(l3[-1])\n"
      ],
      "metadata": {
        "id": "PyCij-TUGoEe"
      },
      "execution_count": null,
      "outputs": []
    },
    {
      "cell_type": "code",
      "source": [
        "#can we print the range of  items by using negative indexing by giving start:end\n",
        "#print(l3[-1:-4])\n",
        "#print(l3[-1:-5:-1])\n",
        "print(l3[-4:-1])\n",
        "\"\"\"Note :-When we are using negative indexing if the index numbers isfrom left to right direction then we no need to defint\n",
        "the step value as-1 other wise\n",
        "if we want to reverse anycollection from right to left then in slicing we need\n",
        "to define step as -1\"\"\""
      ],
      "metadata": {
        "id": "ceMR1oBwMHSq"
      },
      "execution_count": null,
      "outputs": []
    },
    {
      "cell_type": "markdown",
      "source": [
        "**Default indexing**"
      ],
      "metadata": {
        "id": "p_AqV-YQNJrl"
      }
    },
    {
      "cell_type": "code",
      "source": [
        "#what  is default indexing?\n",
        "#by default [start is 0 :end is len(collection):step is 1]\n",
        "l4=\n",
        "#"
      ],
      "metadata": {
        "id": "f3TR3RXwNNDO"
      },
      "execution_count": null,
      "outputs": []
    },
    {
      "cell_type": "markdown",
      "source": [
        "**List  is muttable**\n",
        "Mutable means itfollows three properties\n",
        "1.----Swapping or replace items from your collection\n",
        "2.----Adding new items to the collection\n",
        "3.----Remove items from the collection\n"
      ],
      "metadata": {
        "id": "5uJwunzsNiaJ"
      }
    },
    {
      "cell_type": "code",
      "source": [
        "#from typing import Newtype\n",
        "#swapping or replace items from list\n",
        "l5 =['r','python','java','c++','c']\n",
        "#replace the\"r\" with.net\n",
        "l5[0] = \".net\"\n",
        "print(l5)"
      ],
      "metadata": {
        "colab": {
          "base_uri": "https://localhost:8080/"
        },
        "id": "_vmf3pIVNlGg",
        "outputId": "a01f94d0-7688-4bad-9f1f-957139c5ca7c"
      },
      "execution_count": null,
      "outputs": [
        {
          "output_type": "stream",
          "name": "stdout",
          "text": [
            "['.net', 'python', 'java', 'c++', 'c']\n"
          ]
        }
      ]
    },
    {
      "cell_type": "code",
      "source": [
        "#Adding new items to the existing list\n",
        "#in above l5 add\"css\" in the list\n",
        "print(dir(l5))\n",
        "\"\"\"'append', 'clear', 'copy', 'count','extend', 'index', 'insert',\n",
        " 'pop', 'remove', 'reverse', 'sort'\"\"\""
      ],
      "metadata": {
        "id": "2L_pn992QGoV"
      },
      "execution_count": null,
      "outputs": []
    },
    {
      "cell_type": "code",
      "source": [
        "#1st :- Append() by default itadds the items at the end of the list\n",
        "#what is the default index position here  add you add items in list by using append()?\n",
        "l6 = ['.net', 'PYTHON', 'JAVA', 'C++', 'C']\n",
        "l6.append('css')\n",
        "print(l6)"
      ],
      "metadata": {
        "id": "We1ZJLe8RR4L",
        "colab": {
          "base_uri": "https://localhost:8080/"
        },
        "outputId": "608722f3-d9a6-4d1d-8b1e-6d8e9da94e43"
      },
      "execution_count": null,
      "outputs": [
        {
          "output_type": "stream",
          "name": "stdout",
          "text": [
            "['.net', 'PYTHON', 'JAVA', 'C++', 'C', 'css']\n"
          ]
        }
      ]
    },
    {
      "cell_type": "code",
      "source": [
        "#insert() :- it adds the items at particular index position?\n",
        "l6 = ['.net', 'PYTHON', 'JAVA', 'C++', 'C']\n",
        "l6.insert(2,'javascript')\n",
        "l6"
      ],
      "metadata": {
        "id": "BfSyvWl-MYIM",
        "colab": {
          "base_uri": "https://localhost:8080/"
        },
        "outputId": "22fed295-ed2d-4dfe-e9a9-c2cc8907403f"
      },
      "execution_count": null,
      "outputs": [
        {
          "output_type": "execute_result",
          "data": {
            "text/plain": [
              "['.net', 'PYTHON', 'javascript', 'JAVA', 'C++', 'C']"
            ]
          },
          "metadata": {},
          "execution_count": 1
        }
      ]
    },
    {
      "cell_type": "markdown",
      "source": [
        "07-12-2024"
      ],
      "metadata": {
        "id": "-cM0YlvmRYDD"
      }
    },
    {
      "cell_type": "code",
      "source": [
        "#Adding new items to the existing list\n",
        "#what are all methods we can apply on specific object?\n",
        "l6 = ['R','python','Java','C++','c']\n",
        "print(dir(l6))\n",
        "#1.Append():- By default i adds the itemsadd the end of the list\n",
        "l6.append('css')\n",
        "l6\n",
        "#can we add multiple items at a time by using the append function\n",
        "#we cannot add why because append() can takes only one argument\n",
        "l7=[1,2,3,4,5]\n",
        "l6.append(l7)\n",
        "l6"
      ],
      "metadata": {
        "id": "tV1hwKt_i1tL"
      },
      "execution_count": null,
      "outputs": []
    },
    {
      "cell_type": "code",
      "source": [
        "#if i want to add the items at particular index position? what method we need to use?\n",
        "l8 = [1,2,3,4,6,7,8,9]\n",
        "#add the '5' at 4th index position\n",
        "l8.insert(4,5)\n",
        "l8\n",
        "#syntax:- insert(index_position, element)\n",
        "#can we insert multiple items at a time?\n",
        "#No we cannot why beacuse insert can take only two arguments one is index position and another one is element"
      ],
      "metadata": {
        "id": "cRE2JjOGvjSq"
      },
      "execution_count": null,
      "outputs": []
    },
    {
      "cell_type": "code",
      "source": [
        "#How can we add the multiple items to the exisiting list?\n",
        "# use 'extend()' adds the multiple items from any collection to the existing list\n",
        "l9 = ['R', 'PYTHON', 'JAVA', 'C++', 'C', 'CSS']\n",
        "l10 = ['apple','banana','pineapple']\n",
        "#add the l10 in to l9\n",
        "l9.extend(l10)\n",
        "print(l9)\n",
        "#what is default index position when you use the extend()?\n",
        "#the items are adding at the end of the existing list\n"
      ],
      "metadata": {
        "id": "OQXKZ1W4v5p1"
      },
      "execution_count": null,
      "outputs": []
    },
    {
      "cell_type": "markdown",
      "source": [
        "**Remove the items from the list**"
      ],
      "metadata": {
        "id": "AxoVlFCCMp73"
      }
    },
    {
      "cell_type": "code",
      "source": [
        "#1. pop() is used remove the items from the list and by default it removes the last item of the list\n",
        "l11=['r','python','java','c++','c','css','apple','banana','pineapple']\n",
        "l11.pop()"
      ],
      "metadata": {
        "colab": {
          "base_uri": "https://localhost:8080/",
          "height": 35
        },
        "id": "C2fdSrQgMw3z",
        "outputId": "21891ba8-1f4b-448f-b0bd-7856c9271daa"
      },
      "execution_count": null,
      "outputs": [
        {
          "output_type": "execute_result",
          "data": {
            "text/plain": [
              "'pineapple'"
            ],
            "application/vnd.google.colaboratory.intrinsic+json": {
              "type": "string"
            }
          },
          "metadata": {},
          "execution_count": 1
        }
      ]
    },
    {
      "cell_type": "code",
      "source": [
        "#print(l11)\n",
        "l11.pop(-1)"
      ],
      "metadata": {
        "colab": {
          "base_uri": "https://localhost:8080/",
          "height": 36
        },
        "id": "uJ1HmwLSPr3F",
        "outputId": "de98dbe6-00b6-4e59-c52a-fdf503a240ec"
      },
      "execution_count": null,
      "outputs": [
        {
          "output_type": "execute_result",
          "data": {
            "text/plain": [
              "'banana'"
            ],
            "application/vnd.google.colaboratory.intrinsic+json": {
              "type": "string"
            }
          },
          "metadata": {},
          "execution_count": 2
        }
      ]
    },
    {
      "cell_type": "code",
      "source": [
        "#Note:- pop(index_position_num) to remove the particular item and by default it removes last item of the list\n",
        "l11.remove() #we need to give atleast one argument"
      ],
      "metadata": {
        "id": "u9FR8R5mP2jN"
      },
      "execution_count": null,
      "outputs": []
    },
    {
      "cell_type": "code",
      "source": [
        "#2.remove() is used toremove the specific item,so remove(item_name)id doesn't take index position\n",
        "#from above list remove \"R\" language\n",
        "l11=['r','python','java','c++','c','css','apple','banana','pineapple']\n",
        "l11.remove('r')\n",
        "print(l11)"
      ],
      "metadata": {
        "colab": {
          "base_uri": "https://localhost:8080/"
        },
        "id": "in8Qrv3TP_XF",
        "outputId": "d7f24667-6302-44f6-8348-5078e80a01f5"
      },
      "execution_count": null,
      "outputs": [
        {
          "output_type": "stream",
          "name": "stdout",
          "text": [
            "['python', 'java', 'c++', 'c', 'css', 'apple', 'banana', 'pineapple']\n"
          ]
        }
      ]
    },
    {
      "cell_type": "code",
      "source": [
        "#3. How can we remove multiple items from the list?\n",
        "#del collection_name [start:end:step] by using delete method\n",
        "del l11[1:4]\n",
        "l11"
      ],
      "metadata": {
        "colab": {
          "base_uri": "https://localhost:8080/"
        },
        "id": "s72Hp_CoQ_GK",
        "outputId": "14213975-a2d4-4227-d9e7-558572772478"
      },
      "execution_count": null,
      "outputs": [
        {
          "output_type": "execute_result",
          "data": {
            "text/plain": [
              "['python', 'css', 'apple', 'banana', 'pineapple']"
            ]
          },
          "metadata": {},
          "execution_count": 6
        }
      ]
    },
    {
      "cell_type": "code",
      "source": [
        "#4. i want to remove only items from the list\n",
        "l12 = ['PYTHON', 'JAVA', 'C++', 'C', 'CSS', 'apple']\n",
        "#use the  clear() to remove all the items from the list and print the empty list\n",
        "#can we use del to remove entire items from the list---> yes we can use del method with slicing operator\n",
        "\n",
        "l12.clear()\n",
        "print(l12)"
      ],
      "metadata": {
        "id": "HLWzARPzSCvD"
      },
      "execution_count": null,
      "outputs": []
    },
    {
      "cell_type": "code",
      "source": [
        "#5. how can we delete the entire list\n",
        "# use \"del collection_name\"\n",
        "del l12\n",
        "print(l12)"
      ],
      "metadata": {
        "id": "2UiOB4q5SUUl"
      },
      "execution_count": null,
      "outputs": []
    },
    {
      "cell_type": "markdown",
      "source": [
        "**Tuple**"
      ],
      "metadata": {
        "id": "_3iRq7oNU-5J"
      }
    },
    {
      "cell_type": "code",
      "source": [
        "#what is a tuple and how to create this tuple ?\n",
        "#Tuple is declared in ()\n",
        "#tuple is ordered ,Immutable,And allows duplicates"
      ],
      "metadata": {
        "id": "h865Prw7ST6F"
      },
      "execution_count": null,
      "outputs": []
    },
    {
      "cell_type": "markdown",
      "source": [
        "**Tuples allows the duplicates**"
      ],
      "metadata": {
        "id": "ysKSjp-uXmUp"
      }
    },
    {
      "cell_type": "code",
      "source": [
        "t1 = ('apple','bananan','mango','apple','apple','pineapple')\n",
        "print(len(t1))\n",
        "print(type(t1))\n",
        "print(t1)\n",
        "print(dir(t1))"
      ],
      "metadata": {
        "id": "B1lmDWAdX_i2",
        "colab": {
          "base_uri": "https://localhost:8080/"
        },
        "outputId": "5cceb34d-3538-4b61-fba3-1839a6ba203b"
      },
      "execution_count": null,
      "outputs": [
        {
          "output_type": "stream",
          "name": "stdout",
          "text": [
            "6\n",
            "<class 'tuple'>\n",
            "('apple', 'bananan', 'mango', 'apple', 'apple', 'pineapple')\n",
            "['__add__', '__class__', '__class_getitem__', '__contains__', '__delattr__', '__dir__', '__doc__', '__eq__', '__format__', '__ge__', '__getattribute__', '__getitem__', '__getnewargs__', '__gt__', '__hash__', '__init__', '__init_subclass__', '__iter__', '__le__', '__len__', '__lt__', '__mul__', '__ne__', '__new__', '__reduce__', '__reduce_ex__', '__repr__', '__rmul__', '__setattr__', '__sizeof__', '__str__', '__subclasshook__', 'count', 'index']\n"
          ]
        }
      ]
    },
    {
      "cell_type": "markdown",
      "source": [
        "**Tuples are ordered**"
      ],
      "metadata": {
        "id": "2i2RodSQYyTa"
      }
    },
    {
      "cell_type": "code",
      "source": [
        "#In tuples the items are in the sequence of index position number\n",
        "#By using the index_position number we can access the items from the tuple\n",
        "t1 = ('apple','bananan','mango','apple','apple','pineapple')\n",
        "print(t1[2])\n",
        "print(t1[1:5])\n",
        "#Reverse the entire tuple\n",
        "print(t1[::-1])"
      ],
      "metadata": {
        "id": "jdhsAU6MY3Ek",
        "colab": {
          "base_uri": "https://localhost:8080/"
        },
        "outputId": "0e062a47-e9ce-4658-a2fc-9d0f55927fb8"
      },
      "execution_count": null,
      "outputs": [
        {
          "output_type": "stream",
          "name": "stdout",
          "text": [
            "mango\n",
            "('bananan', 'mango', 'apple', 'apple')\n",
            "('pineapple', 'apple', 'apple', 'mango', 'bananan', 'apple')\n"
          ]
        }
      ]
    },
    {
      "cell_type": "markdown",
      "source": [
        "**tuple is Immutable**"
      ],
      "metadata": {
        "id": "1Cs7kUsDm0tn"
      }
    },
    {
      "cell_type": "code",
      "source": [
        "#we cannot replace ,add and remove the items from tuple\n",
        "print(dir(t1))"
      ],
      "metadata": {
        "id": "XizOwSiLmtOs",
        "colab": {
          "base_uri": "https://localhost:8080/"
        },
        "outputId": "b8f2ffe9-978b-46e5-89b7-9c5e9a32ab75"
      },
      "execution_count": null,
      "outputs": [
        {
          "output_type": "stream",
          "name": "stdout",
          "text": [
            "['__add__', '__class__', '__class_getitem__', '__contains__', '__delattr__', '__dir__', '__doc__', '__eq__', '__format__', '__ge__', '__getattribute__', '__getitem__', '__getnewargs__', '__gt__', '__hash__', '__init__', '__init_subclass__', '__iter__', '__le__', '__len__', '__lt__', '__mul__', '__ne__', '__new__', '__reduce__', '__reduce_ex__', '__repr__', '__rmul__', '__setattr__', '__sizeof__', '__str__', '__subclasshook__', 'count', 'index']\n"
          ]
        }
      ]
    },
    {
      "cell_type": "code",
      "source": [
        "t1[4]=\"watermelon\"\n",
        "print(t1)\n"
      ],
      "metadata": {
        "id": "ABUJZ000nenH"
      },
      "execution_count": null,
      "outputs": []
    },
    {
      "cell_type": "code",
      "source": [
        "#How can we replace or add the items from the tuple\n",
        "#we need to convert the tuple into list\n",
        "t_1=list(t1)\n",
        "print(t_1)"
      ],
      "metadata": {
        "colab": {
          "base_uri": "https://localhost:8080/"
        },
        "id": "eTKoltzrn5uP",
        "outputId": "92702778-22d5-4f46-9c29-bd418461568d"
      },
      "execution_count": null,
      "outputs": [
        {
          "output_type": "stream",
          "name": "stdout",
          "text": [
            "['apple', 'bananan', 'mango', 'apple', 'apple', 'pineapple']\n"
          ]
        }
      ]
    },
    {
      "cell_type": "code",
      "source": [
        "l_t=list(t1)\n",
        "print(l_t)"
      ],
      "metadata": {
        "colab": {
          "base_uri": "https://localhost:8080/"
        },
        "id": "q7wOUAwvoiRU",
        "outputId": "26863bd8-324b-48ef-d5b9-aacb8ede3d4c"
      },
      "execution_count": null,
      "outputs": [
        {
          "output_type": "stream",
          "name": "stdout",
          "text": [
            "['apple', 'bananan', 'mango', 'apple', 'apple', 'pineapple']\n"
          ]
        }
      ]
    },
    {
      "cell_type": "code",
      "source": [
        "#Tuples are faster than the list beacuse tuples are immutable means tuples are having fixed memory size\n",
        "#When we need to use tuple and list?\n",
        "#Tuple are used to store valuable information where we won't do any changes to that data\n",
        "#List is used when we need to manipulate the data"
      ],
      "metadata": {
        "id": "ObdMm8NNfP6V"
      },
      "execution_count": null,
      "outputs": []
    },
    {
      "cell_type": "markdown",
      "source": [
        "09-12-2024"
      ],
      "metadata": {
        "id": "HpKPtnfLifyv"
      }
    },
    {
      "cell_type": "markdown",
      "source": [
        "**SET**"
      ],
      "metadata": {
        "id": "G55yK50Sihwv"
      }
    },
    {
      "cell_type": "code",
      "source": [
        "#what is a set and how can we define  a set?\n",
        "set can be declared in---->{}\n",
        "#set are defined as--->unorderd,immutable,and wont allow the duplicates\n",
        "\n"
      ],
      "metadata": {
        "id": "iKT9aE-giqGD"
      },
      "execution_count": null,
      "outputs": []
    },
    {
      "cell_type": "markdown",
      "source": [
        "**set won't allow duplicates**"
      ],
      "metadata": {
        "id": "9uxMujppjLIu"
      }
    },
    {
      "cell_type": "code",
      "source": [
        "s1= {1,2,3,4,5,2,3,4,5,9}\n",
        "#whatis the length of the above set?\n",
        "print(len(s1))\n",
        "print(s1)"
      ],
      "metadata": {
        "colab": {
          "base_uri": "https://localhost:8080/"
        },
        "id": "AIdf9RTRjYOM",
        "outputId": "972571cd-52ff-4dec-de03-2a1f1dc0ae01"
      },
      "execution_count": null,
      "outputs": [
        {
          "output_type": "stream",
          "name": "stdout",
          "text": [
            "6\n",
            "{1, 2, 3, 4, 5, 9}\n"
          ]
        }
      ]
    },
    {
      "cell_type": "markdown",
      "source": [
        "**set is unorderd**"
      ],
      "metadata": {
        "id": "pKiIzTgakHLt"
      }
    },
    {
      "cell_type": "code",
      "source": [
        "#what is unordered?\n",
        "#unordeered means the elements in the set doesnt have indexposition numbers\n",
        "s2={\"apple\",\"banana\",\"pineapple\",\"apple\",\"watermelon\"}\n",
        "#print the pineapple  from from the above set\n",
        "print(s2[2]) #'set' object is not subscriptable bcoz set doesnt have index position number"
      ],
      "metadata": {
        "id": "KMs8C6XKkKql"
      },
      "execution_count": null,
      "outputs": []
    },
    {
      "cell_type": "markdown",
      "source": [
        "**set is immutable**"
      ],
      "metadata": {
        "id": "aCmMNzRAk98G"
      }
    },
    {
      "cell_type": "code",
      "source": [
        "#in sets we can  add the items and we can remove the items but we cannot replace the elements in the set\n",
        "s2={\"apple\",\"banana\",\"pineapple\",\"apple\",\"watermelon\"}\n",
        "s2[3]=\"muskmelon\"\n",
        "print(s2) #'set' object does not support item assignment"
      ],
      "metadata": {
        "id": "hRGDsxQRlAyY",
        "colab": {
          "base_uri": "https://localhost:8080/",
          "height": 193
        },
        "outputId": "92a18cbe-6839-43c2-8453-7059f278aaef"
      },
      "execution_count": null,
      "outputs": [
        {
          "output_type": "error",
          "ename": "TypeError",
          "evalue": "'set' object does not support item assignment",
          "traceback": [
            "\u001b[0;31m---------------------------------------------------------------------------\u001b[0m",
            "\u001b[0;31mTypeError\u001b[0m                                 Traceback (most recent call last)",
            "\u001b[0;32m<ipython-input-3-3ca5a4f064ee>\u001b[0m in \u001b[0;36m<cell line: 3>\u001b[0;34m()\u001b[0m\n\u001b[1;32m      1\u001b[0m \u001b[0;31m#in sets we can  add the items and we can remove the items but we cannot replace the elements in the set\u001b[0m\u001b[0;34m\u001b[0m\u001b[0;34m\u001b[0m\u001b[0m\n\u001b[1;32m      2\u001b[0m \u001b[0ms2\u001b[0m\u001b[0;34m=\u001b[0m\u001b[0;34m{\u001b[0m\u001b[0;34m\"apple\"\u001b[0m\u001b[0;34m,\u001b[0m\u001b[0;34m\"banana\"\u001b[0m\u001b[0;34m,\u001b[0m\u001b[0;34m\"pineapple\"\u001b[0m\u001b[0;34m,\u001b[0m\u001b[0;34m\"apple\"\u001b[0m\u001b[0;34m,\u001b[0m\u001b[0;34m\"watermelon\"\u001b[0m\u001b[0;34m}\u001b[0m\u001b[0;34m\u001b[0m\u001b[0;34m\u001b[0m\u001b[0m\n\u001b[0;32m----> 3\u001b[0;31m \u001b[0ms2\u001b[0m\u001b[0;34m[\u001b[0m\u001b[0;36m3\u001b[0m\u001b[0;34m]\u001b[0m\u001b[0;34m=\u001b[0m\u001b[0;34m\"muskmelon\"\u001b[0m\u001b[0;34m\u001b[0m\u001b[0;34m\u001b[0m\u001b[0m\n\u001b[0m\u001b[1;32m      4\u001b[0m \u001b[0mprint\u001b[0m\u001b[0;34m(\u001b[0m\u001b[0ms2\u001b[0m\u001b[0;34m)\u001b[0m \u001b[0;31m#'set' object does not support item assignment\u001b[0m\u001b[0;34m\u001b[0m\u001b[0;34m\u001b[0m\u001b[0m\n",
            "\u001b[0;31mTypeError\u001b[0m: 'set' object does not support item assignment"
          ]
        }
      ]
    },
    {
      "cell_type": "markdown",
      "source": [
        "**Add items in the set**"
      ],
      "metadata": {
        "id": "FJnFxBcNnFJf"
      }
    },
    {
      "cell_type": "code",
      "source": [
        "#Add()\n",
        "#add \"muskmelon\" in the s2\n",
        "s2.add('muskmelon')\n",
        "print(s2)"
      ],
      "metadata": {
        "colab": {
          "base_uri": "https://localhost:8080/"
        },
        "id": "VccgJG_HnQO4",
        "outputId": "6527431c-15eb-49cd-8019-d1abbd0875f8"
      },
      "execution_count": null,
      "outputs": [
        {
          "output_type": "stream",
          "name": "stdout",
          "text": [
            "{'muskmelon', 'watermelon', 'pineapple', 'banana', 'apple'}\n"
          ]
        }
      ]
    },
    {
      "cell_type": "code",
      "source": [
        "#can we insert a element at particular index position?\n",
        "#No\n",
        "print(dir(s2))"
      ],
      "metadata": {
        "colab": {
          "base_uri": "https://localhost:8080/"
        },
        "id": "bq9vvF3Fn4S6",
        "outputId": "df1eb224-5976-4612-dc14-55c0e5f50fa5"
      },
      "execution_count": null,
      "outputs": [
        {
          "output_type": "stream",
          "name": "stdout",
          "text": [
            "['__and__', '__class__', '__class_getitem__', '__contains__', '__delattr__', '__dir__', '__doc__', '__eq__', '__format__', '__ge__', '__getattribute__', '__gt__', '__hash__', '__iand__', '__init__', '__init_subclass__', '__ior__', '__isub__', '__iter__', '__ixor__', '__le__', '__len__', '__lt__', '__ne__', '__new__', '__or__', '__rand__', '__reduce__', '__reduce_ex__', '__repr__', '__ror__', '__rsub__', '__rxor__', '__setattr__', '__sizeof__', '__str__', '__sub__', '__subclasshook__', '__xor__', 'add', 'clear', 'copy', 'difference', 'difference_update', 'discard', 'intersection', 'intersection_update', 'isdisjoint', 'issubset', 'issuperset', 'pop', 'remove', 'symmetric_difference', 'symmetric_difference_update', 'union', 'update']\n"
          ]
        }
      ]
    },
    {
      "cell_type": "code",
      "source": [
        "#How can we add the multiple items intoset at a time?\n",
        "#By using the update() we can add multiple items into set\n",
        "l1=[1,2,3,4,5,6]\n",
        "s3={'apple','muskmelon','pineapple','banana','watermelon'}\n",
        "s3.update(l1)\n",
        "print(s3)"
      ],
      "metadata": {
        "colab": {
          "base_uri": "https://localhost:8080/"
        },
        "id": "4Rh60WwlrixQ",
        "outputId": "af53e3d1-5fa0-4706-c76a-1671f9cf1ccb"
      },
      "execution_count": null,
      "outputs": [
        {
          "output_type": "stream",
          "name": "stdout",
          "text": [
            "{1, 'watermelon', 2, 3, 4, 5, 6, 'banana', 'apple', 'muskmelon', 'pineapple'}\n"
          ]
        }
      ]
    },
    {
      "cell_type": "markdown",
      "source": [
        "**Remove the items from the set**"
      ],
      "metadata": {
        "id": "yDvQ8fzvsNUE"
      }
    },
    {
      "cell_type": "code",
      "source": [
        "#pop() this method is not preferable in sets\n",
        "s4={1, 'watermelon', 2, 3, 4, 5, 6, 'banana', 'apple', 'muskmelon', 'pineapple'}\n",
        "s4.pop()\n",
        "print(s4)"
      ],
      "metadata": {
        "colab": {
          "base_uri": "https://localhost:8080/"
        },
        "id": "-ptLUH3DsMTT",
        "outputId": "e9cd5a2e-6169-4027-a853-c27329e6fcab"
      },
      "execution_count": null,
      "outputs": [
        {
          "output_type": "stream",
          "name": "stdout",
          "text": [
            "{2, 3, 4, 5, 6, 'watermelon', 'muskmelon', 'pineapple', 'banana', 'apple'}\n"
          ]
        }
      ]
    },
    {
      "cell_type": "code",
      "source": [
        "s4.pop()"
      ],
      "metadata": {
        "colab": {
          "base_uri": "https://localhost:8080/"
        },
        "id": "RDC5fqqissN_",
        "outputId": "0fad10f2-711a-4b4f-ba79-a21aa773820a"
      },
      "execution_count": null,
      "outputs": [
        {
          "output_type": "execute_result",
          "data": {
            "text/plain": [
              "2"
            ]
          },
          "metadata": {},
          "execution_count": 9
        }
      ]
    },
    {
      "cell_type": "code",
      "source": [
        "#remove('item_name')\n",
        "s4={1, 'watermelon', 2, 3, 4, 5, 6, 'banana', 'apple', 'muskmelon', 'pineapple'}\n",
        "s4.remove('muskmelon')\n",
        "print(s4)"
      ],
      "metadata": {
        "colab": {
          "base_uri": "https://localhost:8080/"
        },
        "id": "uS2bhr5Osut4",
        "outputId": "e88e291f-a8be-4862-c9fb-8b12a096be01"
      },
      "execution_count": null,
      "outputs": [
        {
          "output_type": "stream",
          "name": "stdout",
          "text": [
            "{1, 'watermelon', 2, 3, 4, 5, 6, 'apple', 'banana', 'pineapple'}\n"
          ]
        }
      ]
    },
    {
      "cell_type": "code",
      "source": [
        "#discard('item_name')\n",
        "s4={1, 'watermelon', 2, 3, 4, 5, 6, 'banana', 'apple', 'muskmelon', 'pineapple'}\n",
        "s4.discard('banana')\n",
        "print(s4)"
      ],
      "metadata": {
        "id": "yB91LU0GtDKW",
        "colab": {
          "base_uri": "https://localhost:8080/"
        },
        "outputId": "39979764-5df7-4d51-8e70-c3ea6f954931"
      },
      "execution_count": null,
      "outputs": [
        {
          "output_type": "stream",
          "name": "stdout",
          "text": [
            "{1, 2, 3, 4, 5, 6, 'apple', 'pineapple', 'watermelon', 'muskmelon'}\n"
          ]
        }
      ]
    },
    {
      "cell_type": "code",
      "source": [
        "#what is thedifference between remove and discard?\n",
        "\"\"\"when we use \"remove()\" if the items exist in the set then it wont rise an error,other wise itthroughs an error\n",
        "when we use \"discard()\" even if the item exist or not it wont show an error\"\"\"\n",
        "s4.remove('banana')\n",
        "print(s4)"
      ],
      "metadata": {
        "id": "5kbUG_qItNGa"
      },
      "execution_count": null,
      "outputs": []
    },
    {
      "cell_type": "code",
      "source": [
        "s4.discard(\"banana\")\n",
        "print(s4)"
      ],
      "metadata": {
        "id": "i-acsP19t2KD"
      },
      "execution_count": null,
      "outputs": []
    },
    {
      "cell_type": "code",
      "source": [
        "#Note:- we cannot delete multiple items at a time in a set\n",
        "#clear()\n",
        "s4={1,2,3,4,5,6,'watermelon','apple','muskmelon','pineapple','banana'}\n",
        "s4.clear()\n",
        "print(s4)"
      ],
      "metadata": {
        "id": "5CdA0yU6t9NY",
        "colab": {
          "base_uri": "https://localhost:8080/"
        },
        "outputId": "323c8d35-68a3-4043-bc13-0b5e72b8b772"
      },
      "execution_count": null,
      "outputs": [
        {
          "output_type": "stream",
          "name": "stdout",
          "text": [
            "set()\n"
          ]
        }
      ]
    },
    {
      "cell_type": "code",
      "source": [
        "del s4\n",
        "print(s4)"
      ],
      "metadata": {
        "id": "Z3o77knVpma-"
      },
      "execution_count": null,
      "outputs": []
    },
    {
      "cell_type": "code",
      "source": [
        "#Why sets are faster than the list and tuple?\n",
        "#Bcoz set is unordered and imutable\n",
        "#Set are used in matrix operators"
      ],
      "metadata": {
        "id": "jNGAs1llptr2"
      },
      "execution_count": null,
      "outputs": []
    },
    {
      "cell_type": "code",
      "source": [
        "s1={'a','b','c','d'}\n",
        "s2={'d','e','f','g'}\n",
        "s=s1.union(s2)\n",
        "print(s)"
      ],
      "metadata": {
        "colab": {
          "base_uri": "https://localhost:8080/"
        },
        "id": "H4hxH7OKqJ8K",
        "outputId": "40c4bb2a-da66-4874-f2e8-efde8f47532a"
      },
      "execution_count": null,
      "outputs": [
        {
          "output_type": "stream",
          "name": "stdout",
          "text": [
            "{'c', 'b', 'f', 'g', 'd', 'a', 'e'}\n"
          ]
        }
      ]
    },
    {
      "cell_type": "code",
      "source": [
        "#print common items from the elements\n",
        "s=s1.intersection(s2)\n",
        "print(s)"
      ],
      "metadata": {
        "colab": {
          "base_uri": "https://localhost:8080/"
        },
        "id": "cZ66El5TrZv5",
        "outputId": "e1a2831c-842c-4c69-976f-7e0f77677373"
      },
      "execution_count": null,
      "outputs": [
        {
          "output_type": "stream",
          "name": "stdout",
          "text": [
            "{'d'}\n"
          ]
        }
      ]
    },
    {
      "cell_type": "markdown",
      "source": [
        "**Dictionary**"
      ],
      "metadata": {
        "id": "HCNXeglirpZ2"
      }
    },
    {
      "cell_type": "code",
      "source": [
        "#what is dictionary? or How can you define an dictionarey\n",
        "#dictionary ---> {}\n",
        "#dictinary is defined as unordered, muttable, it wont allow the duplicates\n",
        "#How can we store items in the dictionary?\n",
        "# Key: value pair\n"
      ],
      "metadata": {
        "id": "4HP1_3ZkuiDn"
      },
      "execution_count": null,
      "outputs": []
    },
    {
      "cell_type": "markdown",
      "source": [
        "**Dictionary wont allows the duplicates**"
      ],
      "metadata": {
        "id": "hMRrDJQJsDIM"
      }
    },
    {
      "cell_type": "code",
      "source": [
        "d1 = {\n",
        "    'Name':'brundha',\n",
        "    'education': 'commerce',\n",
        "    'occupation':'DA',\n",
        "    'education':'Bachelors'\n",
        "}\n",
        "print(len(d1))\n",
        "print(d1)"
      ],
      "metadata": {
        "colab": {
          "base_uri": "https://localhost:8080/"
        },
        "id": "gTATs4Chvd25",
        "outputId": "dbb7b6ee-1132-4f5c-92ad-67b4a37d6ba8"
      },
      "execution_count": null,
      "outputs": [
        {
          "output_type": "stream",
          "name": "stdout",
          "text": [
            "3\n",
            "{'Name': 'brundha', 'education': 'Bachelors', 'occupation': 'DA'}\n"
          ]
        }
      ]
    },
    {
      "cell_type": "markdown",
      "source": [
        "**Dictionary is unordered**"
      ],
      "metadata": {
        "id": "aEQBjWe2vzfR"
      }
    },
    {
      "cell_type": "code",
      "source": [
        "print(d1[2])"
      ],
      "metadata": {
        "id": "7dRumHnIv9ig"
      },
      "execution_count": null,
      "outputs": []
    },
    {
      "cell_type": "code",
      "source": [
        "#How can we access the items from the dictionary?\n",
        "#by using the key names\n",
        "d1['occupation']\n",
        "d1['Name']"
      ],
      "metadata": {
        "id": "iEn_9t1AwEg1",
        "colab": {
          "base_uri": "https://localhost:8080/",
          "height": 36
        },
        "outputId": "6eabcb02-de6c-4aa5-f46e-7ce0e33c1081"
      },
      "execution_count": null,
      "outputs": [
        {
          "output_type": "execute_result",
          "data": {
            "text/plain": [
              "'brundha'"
            ],
            "application/vnd.google.colaboratory.intrinsic+json": {
              "type": "string"
            }
          },
          "metadata": {},
          "execution_count": 9
        }
      ]
    },
    {
      "cell_type": "markdown",
      "source": [
        "**Dictionary is muttable**"
      ],
      "metadata": {
        "id": "eLlNnmpAx00F"
      }
    },
    {
      "cell_type": "code",
      "source": [
        "#Add items in the dicitionary\n",
        "#add your fav bikes\n",
        "d1['bike']='RE'\n",
        "print(d1)"
      ],
      "metadata": {
        "id": "XWhjWNN2yIj8"
      },
      "execution_count": null,
      "outputs": []
    },
    {
      "cell_type": "markdown",
      "source": [
        "**Replace the item from the dictionary**"
      ],
      "metadata": {
        "id": "mtmnrmKQyuOC"
      }
    },
    {
      "cell_type": "code",
      "source": [
        "d1['Name']='rnb'\n",
        "print(d1)"
      ],
      "metadata": {
        "id": "5RY-Tckky7TS"
      },
      "execution_count": null,
      "outputs": []
    },
    {
      "cell_type": "markdown",
      "source": [
        "**Remove the items from dictionary**"
      ],
      "metadata": {
        "id": "gCK0cJjjzQfp"
      }
    },
    {
      "cell_type": "code",
      "source": [
        "#pop('key_name')\n",
        "d1.pop('bike')\n",
        "print(d1)"
      ],
      "metadata": {
        "id": "S9y66rTPzL4N"
      },
      "execution_count": null,
      "outputs": []
    },
    {
      "cell_type": "code",
      "source": [
        "#clear()\n",
        "d1.clear()\n",
        "print(d1)"
      ],
      "metadata": {
        "colab": {
          "base_uri": "https://localhost:8080/"
        },
        "id": "avjvgkyoz5Gv",
        "outputId": "0f1ae95f-3a79-4222-8026-1f6e8024bd8e"
      },
      "execution_count": null,
      "outputs": [
        {
          "output_type": "stream",
          "name": "stdout",
          "text": [
            "{}\n"
          ]
        }
      ]
    },
    {
      "cell_type": "code",
      "source": [
        "d2 = {\n",
        "    'Name':'brundha',\n",
        "    'education': 'commerce',\n",
        "    'occupation': 'DA',\n",
        "    'education':'Bachelors',\n",
        "    'fruits' : ['apple','mango','banana','kiwi']\n",
        "}\n",
        "#in  above dict print only apple\n",
        "print(d2['fruits'][0])"
      ],
      "metadata": {
        "colab": {
          "base_uri": "https://localhost:8080/"
        },
        "id": "OhGxk3OS0LDJ",
        "outputId": "c26b5607-888b-4a0c-ea48-304c35b66d0f"
      },
      "execution_count": null,
      "outputs": [
        {
          "output_type": "stream",
          "name": "stdout",
          "text": [
            "apple\n"
          ]
        }
      ]
    },
    {
      "cell_type": "code",
      "source": [
        "#replace the \"kiwi\"with \"dragonfruit\"\n",
        "d2['fruits'][3]='dragonfruit'\n",
        "print(d2)"
      ],
      "metadata": {
        "colab": {
          "base_uri": "https://localhost:8080/"
        },
        "id": "bzlR8whs0cgo",
        "outputId": "2967ff24-1fc5-4a1e-f51f-8310a5fbf12c"
      },
      "execution_count": null,
      "outputs": [
        {
          "output_type": "stream",
          "name": "stdout",
          "text": [
            "{'Name': 'brundha', 'education': 'Bachelors', 'occupation': 'DA', 'fruits': ['apple', 'mango', 'banana', 'dragonfruit']}\n"
          ]
        }
      ]
    },
    {
      "cell_type": "code",
      "source": [
        "print(dir(d1))"
      ],
      "metadata": {
        "colab": {
          "base_uri": "https://localhost:8080/"
        },
        "id": "uJ8St_t502mM",
        "outputId": "41985a49-0cd7-45ec-9f44-c47f49a570d2"
      },
      "execution_count": null,
      "outputs": [
        {
          "output_type": "stream",
          "name": "stdout",
          "text": [
            "['__class__', '__class_getitem__', '__contains__', '__delattr__', '__delitem__', '__dir__', '__doc__', '__eq__', '__format__', '__ge__', '__getattribute__', '__getitem__', '__gt__', '__hash__', '__init__', '__init_subclass__', '__ior__', '__iter__', '__le__', '__len__', '__lt__', '__ne__', '__new__', '__or__', '__reduce__', '__reduce_ex__', '__repr__', '__reversed__', '__ror__', '__setattr__', '__setitem__', '__sizeof__', '__str__', '__subclasshook__', 'clear', 'copy', 'fromkeys', 'get', 'items', 'keys', 'pop', 'popitem', 'setdefault', 'update', 'values']\n"
          ]
        }
      ]
    },
    {
      "cell_type": "code",
      "source": [
        "#print only the keys from above dic?\n",
        "print(d2.keys())\n",
        "print(d2.values())"
      ],
      "metadata": {
        "colab": {
          "base_uri": "https://localhost:8080/"
        },
        "id": "KDHMg2mP0-z7",
        "outputId": "a6ef7cf1-44a3-46c4-9ff2-4eb99cf689c0"
      },
      "execution_count": null,
      "outputs": [
        {
          "output_type": "stream",
          "name": "stdout",
          "text": [
            "dict_keys(['Name', 'education', 'occupation', 'fruits'])\n",
            "dict_values(['brundha', 'Bachelors', 'DA', ['apple', 'mango', 'banana', 'dragonfruit']])\n"
          ]
        }
      ]
    },
    {
      "cell_type": "code",
      "source": [
        "print(d2)\n",
        "print(d2.items())"
      ],
      "metadata": {
        "colab": {
          "base_uri": "https://localhost:8080/"
        },
        "id": "SYkVPVw91YwF",
        "outputId": "5fe00d99-9cdd-424a-ba10-bf65a7fc61d7"
      },
      "execution_count": null,
      "outputs": [
        {
          "output_type": "stream",
          "name": "stdout",
          "text": [
            "{'Name': 'brundha', 'education': 'Bachelors', 'occupation': 'DA', 'fruits': ['apple', 'mango', 'banana', 'dragonfruit']}\n",
            "dict_items([('Name', 'brundha'), ('education', 'Bachelors'), ('occupation', 'DA'), ('fruits', ['apple', 'mango', 'banana', 'dragonfruit'])])\n"
          ]
        }
      ]
    },
    {
      "cell_type": "code",
      "source": [
        "del d2\n",
        "print(d2)"
      ],
      "metadata": {
        "id": "iBByIra51sNb"
      },
      "execution_count": null,
      "outputs": []
    },
    {
      "cell_type": "code",
      "source": [
        "num=int(input())\n",
        "if num %2 !=0:\n",
        "  print(\"odd,  weird\")\n",
        "if num%2==0 and 2<=num<=5:\n",
        "  print(\"not weird\")\n",
        "elif num%2==0 and 6<=num<=20:\n",
        "     print(\" weird\")\n",
        "elif num%2==0 and num > 20:\n",
        "    print(\"not weird\")\n"
      ],
      "metadata": {
        "colab": {
          "base_uri": "https://localhost:8080/"
        },
        "id": "wyYiR2FLAFSO",
        "outputId": "a6f0f51f-ca43-40b5-a071-01b44b81810a"
      },
      "execution_count": null,
      "outputs": [
        {
          "output_type": "stream",
          "name": "stdout",
          "text": [
            "5\n",
            "odd,  weird\n"
          ]
        }
      ]
    },
    {
      "cell_type": "markdown",
      "source": [
        "**Practise**"
      ],
      "metadata": {
        "id": "Gv9GU1bzflZ8"
      }
    },
    {
      "cell_type": "code",
      "source": [
        "#2.  Write a Python program to multiply all the items in a list\n",
        "is: {total}\")\n",
        "def multiply_list(items):\n",
        "    result = 1\n",
        "    for item in items:\n",
        "        result *= item\n",
        "    return result\n",
        "\n",
        "my_list = [1, 3, 4, 6, 8]\n",
        "total = multiply_list(my_list)\n",
        "print(f\"The product of the list is {multiply_list_items(numbers)}\")"
      ],
      "metadata": {
        "colab": {
          "base_uri": "https://localhost:8080/"
        },
        "id": "dZ2z1iMqLpWG",
        "outputId": "5eb3d340-ca02-4eb1-a31e-ebc4465fb3ef"
      },
      "execution_count": null,
      "outputs": [
        {
          "output_type": "stream",
          "name": "stdout",
          "text": [
            "The product of the list is: 576\n"
          ]
        }
      ]
    },
    {
      "cell_type": "code",
      "source": [
        "# 3. Write a Python program to get the largest number from a list\n",
        "def find_maximum (num1,num2,num3):\n",
        " return max (num1,num2,num3)\n",
        "\n",
        "num1= int(input(\"enter the first number:\"))\n",
        "num2= int(input(\"enter the second number:\"))\n",
        "num3= int(input(\"enter the third number:\"))\n",
        "maximum= find_maximum (num1, num2, num3)\n",
        "print(f\"The maximum value is: {maximum}\")\n"
      ],
      "metadata": {
        "id": "MlzU3P8oMJ6Q"
      },
      "execution_count": null,
      "outputs": []
    },
    {
      "cell_type": "code",
      "source": [
        "# 4. Write a Python program to get the smallest number from a list.\n",
        "def find_minimum (num1,num2,num3):\n",
        " return min (num1,num2,num3)\n",
        "\n",
        "num1= int(input(\"enter the first number:\"))\n",
        "num2= int(input(\"enter the second number:\"))\n",
        "num3= int(input(\"enter the third number:\"))\n",
        "minimum= find_minimum (num1, num2, num3)\n",
        "print(f\"The minimum value is: {minimum}\")\n",
        "# 5. Write a Python program to count the number of strings from a given list of strings. The string length is 2 or more and the first and last characters are the same.\n",
        "\n",
        "# Sample List : ['abc', 'xyz', 'aba', '1221']\n",
        "# Expected Result : 2"
      ],
      "metadata": {
        "id": "S3T79iGhMPXi"
      },
      "execution_count": null,
      "outputs": []
    },
    {
      "cell_type": "code",
      "source": [
        "#======================================================TUPLE===========================================================\n",
        "# 1. Write a Python program to create a tuple.\n",
        "t1 = ('apple','banana','mango','apple','pineapple')\n",
        "print(type(t1))\n",
        "print(t1)\n",
        "# 2. Write a Python program to create a tuple with different data types.\n",
        "t2=('python','java','c++','c','css')\n",
        "print(t2[2])\n",
        "# 3 .Write a Python program to create a tuple of numbers and print one item.\n",
        "t3=(5,6,7,8,5,2)\n",
        "print(t3[3])\n",
        "\n",
        "# 4. Write a Python program to unpack a tuple into several variables.\n",
        "t4=()\n",
        "# 5. Write a Python program to add an item to a tuple.\n",
        "t5=('apple','banana','pineapple','mango')\n",
        "print(t5,'watermelon')"
      ],
      "metadata": {
        "id": "48wkfAP9MQ30",
        "colab": {
          "base_uri": "https://localhost:8080/"
        },
        "outputId": "75c33d39-2e8a-4bf6-e1ef-026f5afe5dec"
      },
      "execution_count": null,
      "outputs": [
        {
          "output_type": "stream",
          "name": "stdout",
          "text": [
            "<class 'tuple'>\n",
            "('apple', 'banana', 'mango', 'apple', 'pineapple')\n",
            "c++\n",
            "8\n",
            "('apple', 'banana', 'pineapple', 'mango') watermelon\n"
          ]
        }
      ]
    },
    {
      "cell_type": "code",
      "source": [
        "# 6. Write a Python program to convert a tuple to a string.\n",
        "my_tuple = ('H', 'e', 'l', 'l', 'o', ' ', 'W', 'o', 'r', 'l', 'd')\n",
        "\n",
        "result_string = ''.join(my_tuple)\n",
        "print(\"Converted string:\", result_string)\n",
        "\n",
        "# 7. Write a Python program to get the 4th element from the last element of a tuple.\n",
        "t2=('python','java','css','c++','c')\n",
        "print(t2[3])\n",
        "# 8. Write a Python program to create the colon of a tuple.\n",
        "t3 = ('python','java','c++','c','css')\n",
        "print(t3,end=(:))"
      ],
      "metadata": {
        "id": "eazvSNj_MZ5q"
      },
      "execution_count": null,
      "outputs": []
    },
    {
      "cell_type": "code",
      "source": [
        "#======================================================SET================================================\n",
        "#1. Write a Python program to create a set.\n",
        "s1={2,4,6,8,10,12,14}\n",
        "print(s1)\n",
        "print(len(s1))\n",
        "# 2. Write a Python program to iterate over sets\n",
        "\n",
        "# 3. Write a Python program to add member(s) to a set.\n",
        "s3={'apple','banana','mango','papaya',}\n",
        "s3.add(\"watermelon\")\n",
        "print(s3)\n"
      ],
      "metadata": {
        "id": "EgOYHRyRMs_C",
        "colab": {
          "base_uri": "https://localhost:8080/"
        },
        "outputId": "2f1bd00e-4a1a-40e4-9586-1abe033e4e7d"
      },
      "execution_count": null,
      "outputs": [
        {
          "output_type": "stream",
          "name": "stdout",
          "text": [
            "{2, 4, 6, 8, 10, 12, 14}\n",
            "7\n",
            "{'banana', 'mango', 'papaya', 'apple', 'watermelon'}\n"
          ]
        }
      ]
    },
    {
      "cell_type": "code",
      "source": [
        "# 4. Write a Python program to remove item(s) from a given set.\n",
        "s4={'apple','banana','mango','papaya','watermelon'}\n",
        "s4.remove('papaya')\n",
        "print(s4)\n",
        "# 5. Write a Python program to remove an item from a set if it is present in the set.ython\n",
        "s5={'apple','banana','mango','papaya','watermelon'}\n",
        "s5.remove('mango')\n",
        "print(s5)\n",
        "# 6. Write a Python program to create an intersection of sets\n",
        "s6={'1','2','3','4','5'}\n",
        "s7={'5','6','7','8','9'}\n",
        "s= s6.intersection(s7)\n",
        "print(s)\n"
      ],
      "metadata": {
        "id": "FDajeuqeM3wy"
      },
      "execution_count": null,
      "outputs": []
    },
    {
      "cell_type": "code",
      "source": [
        "#7. Write a Python program to create a symmetric difference of sets.\n",
        "s1={'a','b','c','d'}\n",
        "s2={'d','e','f','g'}\n",
        "s=s1.union(s2)\n",
        "s=s1.intersection(s2)\n",
        "print(s)\n",
        "# 8. Write a Python program to find the maximum and minimum values in a set.\n",
        "def find_maximum(num1, num2, num3):\n",
        "      return max(num1, num2, num3)\n",
        "\n",
        "num1 = int(input(\"enter the first number:\"))\n",
        "num2 = int(input(\"enter the second number:\"))\n",
        "num3 = int(input(\"enter the third number:\"))\n",
        "maximum = find_maximum(num1, num2, num3)\n",
        "print(f\"The maximum value is: {maximum}\")\n",
        "\n",
        "def find_minimum (num1,num2,num3):\n",
        " return min (num1,num2,num3)\n",
        "num1= int(input(\"enter the first number:\"))\n",
        "num2= int(input(\"enter the second number:\"))\n",
        "num3= int(input(\"enter the third number:\"))\n",
        "minimum= find_minimum (num1, num2, num3)\n",
        "print(f\"The minimum value is: {minimum}\")\n"
      ],
      "metadata": {
        "id": "eKOJ__SpM52O"
      },
      "execution_count": null,
      "outputs": []
    },
    {
      "cell_type": "code",
      "source": [
        "if n <= 0:\n",
        "  print(\"Done!\")\n",
        "else:\n",
        "  print(n)\n",
        "  countdown(n - 1)\n",
        "  countdown(3)"
      ],
      "metadata": {
        "id": "JR2jo6FBO4Mh"
      },
      "execution_count": null,
      "outputs": []
    },
    {
      "cell_type": "code",
      "source": [
        "def countdown(n):\n",
        "  if  n <= 0:\n",
        "  print(\"Done!\")\n",
        "else:\n",
        "  print(n)\n",
        "  countdown(n - 1)\n",
        "  countdown(3)"
      ],
      "metadata": {
        "id": "eNrjiP5cPbSb"
      },
      "execution_count": null,
      "outputs": []
    },
    {
      "cell_type": "code",
      "source": [
        "aSet = {1, 'PYnative', ('abc', 'xyz'), True}\n",
        "print(aSet)\n"
      ],
      "metadata": {
        "colab": {
          "base_uri": "https://localhost:8080/"
        },
        "id": "1QYzFPZrRw9x",
        "outputId": "4eb57df1-0cc9-49cc-8a99-a5b1bb31129a"
      },
      "execution_count": null,
      "outputs": [
        {
          "output_type": "stream",
          "name": "stdout",
          "text": [
            "{('abc', 'xyz'), 1, 'PYnative'}\n"
          ]
        }
      ]
    },
    {
      "cell_type": "code",
      "source": [
        "sampleSet = {\"Yellow\", \"Orange\", \"Black\"}\n",
        "sampleSet.discard(\"Blue\")\n",
        "print(sampleSet)"
      ],
      "metadata": {
        "colab": {
          "base_uri": "https://localhost:8080/"
        },
        "id": "KM8Hwpw9R99o",
        "outputId": "a314c218-ea62-4835-d31e-c1d25e7a2135"
      },
      "execution_count": null,
      "outputs": [
        {
          "output_type": "stream",
          "name": "stdout",
          "text": [
            "{'Orange', 'Yellow', 'Black'}\n"
          ]
        }
      ]
    },
    {
      "cell_type": "code",
      "source": [
        "set1 = {10, 20, 30, 40}\n",
        "set2 = {50, 20, \"10\", 60}\n",
        "set3 = set1.union(set2)\n",
        "print(set3)\n"
      ],
      "metadata": {
        "colab": {
          "base_uri": "https://localhost:8080/"
        },
        "id": "HoUJxVYZSLS5",
        "outputId": "d3327bc6-d881-4580-8231-7e98708da6ed"
      },
      "execution_count": null,
      "outputs": [
        {
          "output_type": "stream",
          "name": "stdout",
          "text": [
            "{'10', 40, 10, 50, 20, 60, 30}\n"
          ]
        }
      ]
    },
    {
      "cell_type": "code",
      "source": [
        "sampleSet = {\"Yellow\", \"Orange\", \"Black\"}\n",
        "sampleSet.update([\"Blue\", \"Green\", \"Red\"])\n",
        "print(sampleSet)"
      ],
      "metadata": {
        "colab": {
          "base_uri": "https://localhost:8080/"
        },
        "id": "CnqW_GyqSbOm",
        "outputId": "cae4745e-1c5f-4e8b-9f1a-372a52583088"
      },
      "execution_count": null,
      "outputs": [
        {
          "output_type": "stream",
          "name": "stdout",
          "text": [
            "{'Green', 'Orange', 'Yellow', 'Red', 'Black', 'Blue'}\n"
          ]
        }
      ]
    },
    {
      "cell_type": "code",
      "source": [
        "set1 = {10, 20, 30, 40, 50}\n",
        "set2 = {60, 70, 10, 30, 40, 80, 20, 50}\n",
        "print(set1.issubset(set2))\n",
        "print(set2.issuperset(set1))"
      ],
      "metadata": {
        "id": "VeNVljglSwnf"
      },
      "execution_count": null,
      "outputs": []
    },
    {
      "cell_type": "code",
      "source": [
        "#find the minimum number in a list?\n",
        "list=[15,85,65,35,12,125,2,12,34,5,6,8]\n",
        "min=list[0]\n",
        "for i in list:\n",
        "  if min > i :\n",
        "    min=i\n",
        "print(min)\n"
      ],
      "metadata": {
        "colab": {
          "base_uri": "https://localhost:8080/"
        },
        "id": "25CGlJUbfGhI",
        "outputId": "236b6df3-77f3-4c2e-bd93-0a78d01208d8"
      },
      "execution_count": null,
      "outputs": [
        {
          "output_type": "stream",
          "name": "stdout",
          "text": [
            "2\n"
          ]
        }
      ]
    },
    {
      "cell_type": "code",
      "source": [
        "#find the minimum number in a list?\n",
        "list=[15,85,65,35,12,125,2,12,34,5,6,8]\n",
        "max=list[0]\n",
        "for i in list:\n",
        "  if max <i:\n",
        "    max=i\n",
        "print(max)"
      ],
      "metadata": {
        "colab": {
          "base_uri": "https://localhost:8080/"
        },
        "id": "MIVIkK2ci5EV",
        "outputId": "f0a0bf6d-3581-4659-9abb-2cef0adabb7e"
      },
      "execution_count": null,
      "outputs": [
        {
          "output_type": "stream",
          "name": "stdout",
          "text": [
            "125\n"
          ]
        }
      ]
    },
    {
      "cell_type": "code",
      "source": [
        "#find the middle element in the list\n",
        "list=[1,2,3,4,5]\n",
        "mid=int(len(list)/2)\n",
        "print(list[mid])"
      ],
      "metadata": {
        "colab": {
          "base_uri": "https://localhost:8080/"
        },
        "id": "dM0Ojq8kjT2-",
        "outputId": "acaf8eea-61c4-485a-f4ca-b843c7f7fec9"
      },
      "execution_count": null,
      "outputs": [
        {
          "output_type": "stream",
          "name": "stdout",
          "text": [
            "3\n"
          ]
        }
      ]
    },
    {
      "cell_type": "code",
      "source": [
        "#conver a list into string?\n",
        "list=['p','y','t','h','o','n']\n",
        "string =\"\".join(list)\n",
        "print(string)\n",
        "print(type(string))"
      ],
      "metadata": {
        "colab": {
          "base_uri": "https://localhost:8080/"
        },
        "id": "KtjnQJf3kJc4",
        "outputId": "45f3698f-30d0-4dc0-f00e-1d3b6b6dd269"
      },
      "execution_count": null,
      "outputs": [
        {
          "output_type": "stream",
          "name": "stdout",
          "text": [
            "python\n",
            "<class 'str'>\n"
          ]
        }
      ]
    },
    {
      "cell_type": "code",
      "source": [
        "#comparing two string for anagrams?\n",
        "str1='Listen'\n",
        "str2='Silent'\n",
        "s1=str1.upper()\n",
        "s2=str2.upper()\n",
        "print(s1)\n",
        "print(s2)\n",
        "if len(s1) == len(s2):\n",
        "  print('string is in same length')\n",
        "  #sort the string\n",
        "  sort1=sorted(s1)\n",
        "  sort2=sorted(s2)\n",
        "  if sort1==sort2:\n",
        "    print(f'{str1} and {str2} are anagrams')\n",
        "  else:\n",
        "     print(f'{str1} and {str2} are not anagrams')\n",
        "\n"
      ],
      "metadata": {
        "colab": {
          "base_uri": "https://localhost:8080/"
        },
        "id": "rK8WmNHFk2ZL",
        "outputId": "0c5fb95d-1ae2-4ca6-827d-e71d06f2a916"
      },
      "execution_count": null,
      "outputs": [
        {
          "output_type": "stream",
          "name": "stdout",
          "text": [
            "LISTEN\n",
            "SILENT\n",
            "string is in same length\n",
            "Listen and Silent are anagrams\n"
          ]
        }
      ]
    },
    {
      "cell_type": "markdown",
      "source": [],
      "metadata": {
        "id": "Dtn6XVADoUh4"
      }
    },
    {
      "cell_type": "code",
      "source": [],
      "metadata": {
        "id": "x2kk8wV_n0NB"
      },
      "execution_count": null,
      "outputs": []
    }
  ],
  "metadata": {
    "colab": {
      "provenance": [],
      "authorship_tag": "ABX9TyNYFgNFlM8891mdigEoxeiN",
      "include_colab_link": true
    },
    "kernelspec": {
      "display_name": "Python 3",
      "name": "python3"
    },
    "language_info": {
      "name": "python"
    }
  },
  "nbformat": 4,
  "nbformat_minor": 0
}